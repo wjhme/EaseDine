{
 "cells": [
  {
   "cell_type": "markdown",
   "id": "bcbe0689",
   "metadata": {},
   "source": [
    "# 文件读取"
   ]
  },
  {
   "cell_type": "code",
   "execution_count": 1,
   "id": "da56bed2",
   "metadata": {},
   "outputs": [],
   "source": [
    "import pandas as pd \n",
    "import matplotlib.pyplot as plt\n",
    "from tqdm import tqdm\n",
    "tqdm.pandas()\n",
    "import faiss\n",
    "import pandas as pd\n",
    "import numpy as np\n",
    "import torch\n",
    "import os\n",
    "from transformers import AutoTokenizer, AutoModel\n",
    "from openai import OpenAI\n",
    "import torch"
   ]
  },
  {
   "cell_type": "code",
   "execution_count": 2,
   "id": "b2af7fdf",
   "metadata": {},
   "outputs": [],
   "source": [
    "os.chdir(r\"E:\\天池比赛\")\n",
    "df = pd.read_csv(r\".\\A_audio_recognition_dom_189_train_val_avg.txt\", sep='\\t')\n",
    "df_query = pd.read_csv(r\"E:\\天池比赛\\微调\\df_query_506.csv\")\n",
    "df_query = df_query[['uuid','text','food_feature','feature_class']]\n"
   ]
  },
  {
   "cell_type": "markdown",
   "id": "d5418054",
   "metadata": {},
   "source": [
    "# 相似度分类"
   ]
  },
  {
   "cell_type": "code",
   "execution_count": 3,
   "id": "28143254",
   "metadata": {},
   "outputs": [],
   "source": [
    "path = \"./BAAI\"\n",
    "# 初始化模型和分词器\n",
    "tokenizer = AutoTokenizer.from_pretrained(path)\n",
    "model = AutoModel.from_pretrained(path)\n",
    "\n",
    "# 菜品库-读取时将list转回tensor\n",
    "import ast\n",
    "df_food = pd.read_csv(r'./df_food.csv')\n",
    "df_food['cls'] = df_food['cls'].apply(lambda x: torch.tensor(ast.literal_eval(x))) \n"
   ]
  },
  {
   "cell_type": "code",
   "execution_count": 4,
   "id": "d72cb9c0",
   "metadata": {},
   "outputs": [],
   "source": [
    "#转换词向量函数\n",
    "def cls(text): \n",
    "    input = tokenizer(text, return_tensors=\"pt\", padding=True, truncation=True)\n",
    "    with torch.no_grad():\n",
    "        output = model(**input).last_hidden_state\n",
    "    cls_embedding = output[:, 0, :]\n",
    "    cls_embedding = cls_embedding[0]\n",
    "    return cls_embedding"
   ]
  },
  {
   "cell_type": "code",
   "execution_count": 5,
   "id": "7ae729b6",
   "metadata": {},
   "outputs": [
    {
     "name": "stderr",
     "output_type": "stream",
     "text": [
      "  0%|          | 0/1996 [00:00<?, ?it/s]Asking to truncate to max_length but no maximum length is provided and the model has no predefined maximum length. Default to no truncation.\n",
      "100%|██████████| 1996/1996 [03:43<00:00,  8.93it/s]\n"
     ]
    }
   ],
   "source": [
    "df_query['cls'] = df_query['food_feature'].progress_apply(cls)"
   ]
  },
  {
   "cell_type": "markdown",
   "id": "86bf4018",
   "metadata": {},
   "source": [
    "### 菜品库向量FAISS 存储"
   ]
  },
  {
   "cell_type": "code",
   "execution_count": 6,
   "id": "e8aab3fc",
   "metadata": {},
   "outputs": [],
   "source": [
    "# 把向量堆叠成 numpy 数组（shape: N x dim）\n",
    "embeddings = np.stack(df_food['cls'].values).astype('float32')\n",
    "dim = embeddings.shape[1]\n",
    "\n",
    "# 创建索引（使用 L2 距离）\n",
    "index = faiss.IndexFlatL2(dim)\n",
    "index.add(embeddings)"
   ]
  },
  {
   "cell_type": "code",
   "execution_count": 7,
   "id": "73649dc6",
   "metadata": {},
   "outputs": [],
   "source": [
    "def query(food_cls):\n",
    "    query_vector = food_cls.reshape(1, -1)\n",
    "    D, I = index.search(query_vector, k=1)  # D: 距离, I: 索引\n",
    "    formatted = df_food.loc[I[0][0],'item_name']\n",
    "    return formatted\n",
    "\n",
    "# 最终推荐菜品与提取特征间的相似度\n",
    "def similarity(cls1,cls2):\n",
    "    similarity = torch.cosine_similarity(cls1, cls2, dim=0)\n",
    "    return similarity.item()"
   ]
  },
  {
   "cell_type": "code",
   "execution_count": 8,
   "id": "e81e9446",
   "metadata": {},
   "outputs": [
    {
     "name": "stderr",
     "output_type": "stream",
     "text": [
      "100%|██████████| 1996/1996 [00:07<00:00, 280.69it/s]\n",
      "100%|██████████| 1996/1996 [03:41<00:00,  9.02it/s]\n",
      "100%|██████████| 1996/1996 [00:00<00:00, 21443.63it/s]\n"
     ]
    }
   ],
   "source": [
    "#查询\n",
    "df_query['Query_faiss'] = df_query.progress_apply(lambda row: query(row['cls']),axis=1)\n",
    "df_query['cls1'] = df_query['Query_faiss'].progress_apply(cls)\n",
    "df_query['similarity'] = df_query.progress_apply(lambda row: similarity(row['cls'], row['cls1']), axis=1)\n"
   ]
  },
  {
   "cell_type": "code",
   "execution_count": 9,
   "id": "0ef5a698",
   "metadata": {},
   "outputs": [],
   "source": [
    "df_query_1 = df_query[df_query['similarity']>=0.9]\n",
    "df_query_2 = df_query[(df_query['similarity']>=0.7) & (df_query['similarity'] < 0.9)]\n",
    "df_query_3 = df_query[df_query['similarity']<=0.7]"
   ]
  },
  {
   "cell_type": "code",
   "execution_count": 13,
   "id": "58db4a5e",
   "metadata": {},
   "outputs": [],
   "source": [
    "df_query_1.to_excel(r'./微调/数据分类/df_query_1.xlsx')\n",
    "df_query_2.to_excel(r'./微调/数据分类/df_query_2.xlsx')\n",
    "df_query_3.to_excel(r'./微调/数据分类/df_query_3.xlsx')"
   ]
  },
  {
   "cell_type": "code",
   "execution_count": 10,
   "id": "66f39335",
   "metadata": {},
   "outputs": [
    {
     "name": "stderr",
     "output_type": "stream",
     "text": [
      "C:\\Users\\guofengrun\\AppData\\Local\\Temp\\ipykernel_15556\\2331399883.py:2: SettingWithCopyWarning: \n",
      "A value is trying to be set on a copy of a slice from a DataFrame.\n",
      "Try using .loc[row_indexer,col_indexer] = value instead\n",
      "\n",
      "See the caveats in the documentation: https://pandas.pydata.org/pandas-docs/stable/user_guide/indexing.html#returning-a-view-versus-a-copy\n",
      "  df_query_1['recommend'] = df_query_1['Query_faiss']\n"
     ]
    }
   ],
   "source": [
    "#第一部分\n",
    "df_query_1['recommend'] = df_query_1['Query_faiss']"
   ]
  },
  {
   "cell_type": "code",
   "execution_count": 11,
   "id": "33990cd2",
   "metadata": {},
   "outputs": [],
   "source": [
    "#第二部分"
   ]
  },
  {
   "cell_type": "code",
   "execution_count": 12,
   "id": "6e839b28",
   "metadata": {},
   "outputs": [],
   "source": [
    "def query2(food_cls,feature_class):\n",
    "    query_vector = food_cls.reshape(1, -1)\n",
    "    D, I = index.search(query_vector, k=5)  # D: 距离, I: 索引\n",
    "    formatted = list(df_food.loc[s,'item_name'] for i, s in enumerate(I[0]))\n",
    "    if feature_class == '0':\n",
    "        formatted += ['营养配餐粥','养胃小米粥','小份烂糊白菜','骨汤鸡蛋汤','清炒时蔬菜']\n",
    "    return formatted"
   ]
  },
  {
   "cell_type": "code",
   "execution_count": 14,
   "id": "fd7b0e68",
   "metadata": {},
   "outputs": [
    {
     "name": "stderr",
     "output_type": "stream",
     "text": [
      "100%|██████████| 465/465 [00:01<00:00, 245.95it/s]\n",
      "C:\\Users\\guofengrun\\AppData\\Local\\Temp\\ipykernel_15556\\1526680946.py:2: SettingWithCopyWarning: \n",
      "A value is trying to be set on a copy of a slice from a DataFrame.\n",
      "Try using .loc[row_indexer,col_indexer] = value instead\n",
      "\n",
      "See the caveats in the documentation: https://pandas.pydata.org/pandas-docs/stable/user_guide/indexing.html#returning-a-view-versus-a-copy\n",
      "  df_query_2['Query_faiss'] = df_query_2.progress_apply(lambda row: query2(row['cls'],row['feature_class']),axis=1)\n"
     ]
    }
   ],
   "source": [
    "#查询\n",
    "df_query_2['Query_faiss'] = df_query_2.progress_apply(lambda row: query2(row['cls'],row['feature_class']),axis=1)"
   ]
  },
  {
   "cell_type": "code",
   "execution_count": 15,
   "id": "e49c1865",
   "metadata": {},
   "outputs": [],
   "source": [
    "## nlp推荐\n",
    "def nlp_recommend(food_name,food_choice):\n",
    "    input = food_name+'+'+str(food_choice)\n",
    "    message = [\n",
    "        {'role': 'system', 'content': '''你是一个智能点餐助手。给你一个点餐文本，以及可能的菜品列表。你的任务是从菜品列表中选出最符合点餐文本的菜品，并且只返回该菜品名称。\n",
    "                    例如：\n",
    "                    user：天猫精灵要个家常花菜炒肉片吧+[花菜炒肉片, 菜花炒肉片, 家常炒花菜, 花菜家常炒, 花菜炒肉丝]\n",
    "                    assistant:花菜炒肉片'''},\n",
    "        {'role': 'user', 'content':input}]\n",
    "    client = OpenAI(\n",
    "        # 若没有配置环境变量，请用百炼API Key将下行替换为：api_key=\"sk-xxx\",\n",
    "        api_key=\"sk-606b64b8196d4f119a7fb1789c86ac7c\", \n",
    "        base_url=\"https://dashscope.aliyuncs.com/compatible-mode/v1\",\n",
    "    )\n",
    "    completion = client.chat.completions.create(\n",
    "        model=\"qwen2.5-32b-instruct\", # 此处以qwen-plus为例，可按需更换模型名称。模型列表：https://help.aliyun.com/zh/model-studio/getting-started/models\n",
    "        messages=message,\n",
    "        )\n",
    "    return completion.choices[0].message.content"
   ]
  },
  {
   "cell_type": "code",
   "execution_count": 16,
   "id": "fc323325",
   "metadata": {},
   "outputs": [
    {
     "name": "stderr",
     "output_type": "stream",
     "text": [
      "100%|██████████| 465/465 [08:23<00:00,  1.08s/it]\n",
      "C:\\Users\\guofengrun\\AppData\\Local\\Temp\\ipykernel_15556\\3231103119.py:1: SettingWithCopyWarning: \n",
      "A value is trying to be set on a copy of a slice from a DataFrame.\n",
      "Try using .loc[row_indexer,col_indexer] = value instead\n",
      "\n",
      "See the caveats in the documentation: https://pandas.pydata.org/pandas-docs/stable/user_guide/indexing.html#returning-a-view-versus-a-copy\n",
      "  df_query_2['recommend'] = df_query_2.progress_apply(lambda row: nlp_recommend(row['text'], row['Query_faiss']), axis=1)\n"
     ]
    }
   ],
   "source": [
    "df_query_2['recommend'] = df_query_2.progress_apply(lambda row: nlp_recommend(row['text'], row['Query_faiss']), axis=1)"
   ]
  },
  {
   "cell_type": "code",
   "execution_count": 18,
   "id": "f1136558",
   "metadata": {},
   "outputs": [
    {
     "data": {
      "text/html": [
       "<div>\n",
       "<style scoped>\n",
       "    .dataframe tbody tr th:only-of-type {\n",
       "        vertical-align: middle;\n",
       "    }\n",
       "\n",
       "    .dataframe tbody tr th {\n",
       "        vertical-align: top;\n",
       "    }\n",
       "\n",
       "    .dataframe thead th {\n",
       "        text-align: right;\n",
       "    }\n",
       "</style>\n",
       "<table border=\"1\" class=\"dataframe\">\n",
       "  <thead>\n",
       "    <tr style=\"text-align: right;\">\n",
       "      <th></th>\n",
       "      <th>uuid</th>\n",
       "      <th>text</th>\n",
       "      <th>food_feature</th>\n",
       "      <th>feature_class</th>\n",
       "      <th>cls</th>\n",
       "      <th>Query_faiss</th>\n",
       "      <th>cls1</th>\n",
       "      <th>similarity</th>\n",
       "      <th>recommend</th>\n",
       "    </tr>\n",
       "  </thead>\n",
       "  <tbody>\n",
       "    <tr>\n",
       "      <th>3</th>\n",
       "      <td>6dc1df30-6d8c-40a5-9be9-52f398623f07</td>\n",
       "      <td>天猫精灵鲜鱼豆腐汤来一份吧</td>\n",
       "      <td>鲜鱼豆腐汤</td>\n",
       "      <td>1</td>\n",
       "      <td>[tensor(-0.1967), tensor(0.9198), tensor(0.711...</td>\n",
       "      <td>[三鲜豆腐汤, 鲫鱼豆腐汤, 豆腐鲫鱼汤, 水鱼豆腐汤, 海鲜豆腐汤]</td>\n",
       "      <td>[tensor(-0.2713), tensor(0.0347), tensor(0.867...</td>\n",
       "      <td>0.847946</td>\n",
       "      <td>鲫鱼豆腐汤</td>\n",
       "    </tr>\n",
       "    <tr>\n",
       "      <th>5</th>\n",
       "      <td>e54d8c37-1c8c-4b76-a7be-1e416e66280b</td>\n",
       "      <td>天猫精灵来碗萝卜面疙瘩热汤吧</td>\n",
       "      <td>萝卜面疙瘩热汤</td>\n",
       "      <td>1</td>\n",
       "      <td>[tensor(0.3594), tensor(-0.2250), tensor(0.731...</td>\n",
       "      <td>[萝卜疙瘩汤, 萝卜丝疙瘩汤, 白萝卜疙瘩汤, 西红柿面疙瘩汤, 西红柿热面汤]</td>\n",
       "      <td>[tensor(0.5440), tensor(0.3332), tensor(0.6148...</td>\n",
       "      <td>0.832524</td>\n",
       "      <td>萝卜疙瘩汤</td>\n",
       "    </tr>\n",
       "    <tr>\n",
       "      <th>12</th>\n",
       "      <td>19351f4a-5c2d-4416-aa7c-d8516bbe8ba9</td>\n",
       "      <td>天猫精灵来碗绿豆清凉粥</td>\n",
       "      <td>绿豆清凉粥</td>\n",
       "      <td>1</td>\n",
       "      <td>[tensor(0.6221), tensor(-0.1144), tensor(-0.13...</td>\n",
       "      <td>[清爽绿豆粥, 清火绿豆粥, 清香绿豆粥, 清甜绿豆粥, 绿豆解暑粥]</td>\n",
       "      <td>[tensor(1.3211), tensor(-0.5416), tensor(-0.33...</td>\n",
       "      <td>0.896710</td>\n",
       "      <td>清爽绿豆粥</td>\n",
       "    </tr>\n",
       "    <tr>\n",
       "      <th>22</th>\n",
       "      <td>c6c78600-7e83-415d-8664-f4e3c0b587e1</td>\n",
       "      <td>天猫精灵来份番茄鸡蛋浇头饭吧</td>\n",
       "      <td>番茄鸡蛋浇头饭</td>\n",
       "      <td>1</td>\n",
       "      <td>[tensor(0.4777), tensor(-0.1305), tensor(0.506...</td>\n",
       "      <td>[番茄鸡蛋盖浇饭, 番茄鸡蛋饭, 番茄炒鸡蛋盖浇饭, 番茄鸡蛋拌饭, 番茄炒蛋浇头]</td>\n",
       "      <td>[tensor(0.1786), tensor(0.3527), tensor(0.4827...</td>\n",
       "      <td>0.895699</td>\n",
       "      <td>番茄鸡蛋盖浇饭</td>\n",
       "    </tr>\n",
       "    <tr>\n",
       "      <th>28</th>\n",
       "      <td>e04b0fbc-6749-48e7-b12c-9bcefd4c2b66</td>\n",
       "      <td>来份鲜鱼豆腐汤吧</td>\n",
       "      <td>鲜鱼豆腐汤</td>\n",
       "      <td>1</td>\n",
       "      <td>[tensor(-0.1967), tensor(0.9198), tensor(0.711...</td>\n",
       "      <td>[三鲜豆腐汤, 鲫鱼豆腐汤, 豆腐鲫鱼汤, 水鱼豆腐汤, 海鲜豆腐汤]</td>\n",
       "      <td>[tensor(-0.2713), tensor(0.0347), tensor(0.867...</td>\n",
       "      <td>0.847946</td>\n",
       "      <td>鲫鱼豆腐汤</td>\n",
       "    </tr>\n",
       "    <tr>\n",
       "      <th>...</th>\n",
       "      <td>...</td>\n",
       "      <td>...</td>\n",
       "      <td>...</td>\n",
       "      <td>...</td>\n",
       "      <td>...</td>\n",
       "      <td>...</td>\n",
       "      <td>...</td>\n",
       "      <td>...</td>\n",
       "      <td>...</td>\n",
       "    </tr>\n",
       "    <tr>\n",
       "      <th>1983</th>\n",
       "      <td>dc0517bd-0d75-4011-bb81-9f14e94b71aa</td>\n",
       "      <td>天猫精灵来碗养胃的小米粥吧</td>\n",
       "      <td>小米粥</td>\n",
       "      <td>1</td>\n",
       "      <td>[tensor(0.8989), tensor(0.8290), tensor(-0.233...</td>\n",
       "      <td>[大米小米粥, 粗粮小米粥, 早餐小米粥, 小米粥南瓜粥, 牛奶小米粥]</td>\n",
       "      <td>[tensor(1.1569), tensor(1.1570), tensor(0.1737...</td>\n",
       "      <td>0.890502</td>\n",
       "      <td>小米粥南瓜粥</td>\n",
       "    </tr>\n",
       "    <tr>\n",
       "      <th>1989</th>\n",
       "      <td>47f5bac4-d6d9-418c-80ab-178490ff9612</td>\n",
       "      <td>来份热乎养胃的小米粥吧</td>\n",
       "      <td>小米粥</td>\n",
       "      <td>1</td>\n",
       "      <td>[tensor(0.8989), tensor(0.8290), tensor(-0.233...</td>\n",
       "      <td>[大米小米粥, 粗粮小米粥, 早餐小米粥, 小米粥南瓜粥, 牛奶小米粥]</td>\n",
       "      <td>[tensor(1.1569), tensor(1.1570), tensor(0.1737...</td>\n",
       "      <td>0.890502</td>\n",
       "      <td>小米粥南瓜粥</td>\n",
       "    </tr>\n",
       "    <tr>\n",
       "      <th>1990</th>\n",
       "      <td>615f8c03-6c18-45c5-8969-ebdc58c01c07</td>\n",
       "      <td>天猫精灵来碗暖心的菌菇汤吧</td>\n",
       "      <td>菌菇汤</td>\n",
       "      <td>1</td>\n",
       "      <td>[tensor(0.5653), tensor(0.2029), tensor(-0.520...</td>\n",
       "      <td>[养生菌菇汤, 砂锅菌菇汤, 野生菌菇汤, 鲜美菌菇汤, 松茸菌菇汤]</td>\n",
       "      <td>[tensor(0.6869), tensor(0.3218), tensor(-0.430...</td>\n",
       "      <td>0.895828</td>\n",
       "      <td>养生菌菇汤</td>\n",
       "    </tr>\n",
       "    <tr>\n",
       "      <th>1991</th>\n",
       "      <td>9b2b32da-dba8-447d-b090-84b48acb823d</td>\n",
       "      <td>来碗番茄汤小浑炖面吧</td>\n",
       "      <td>番茄汤小浑炖面</td>\n",
       "      <td>1</td>\n",
       "      <td>[tensor(0.5655), tensor(0.6166), tensor(0.8255...</td>\n",
       "      <td>[番茄浓汤面, 番茄蛋汤面, 番茄鸡蛋汤面, 浓汤番茄鸡蛋面, 番茄挂面汤]</td>\n",
       "      <td>[tensor(0.2080), tensor(0.2614), tensor(0.7108...</td>\n",
       "      <td>0.834274</td>\n",
       "      <td>番茄浓汤面</td>\n",
       "    </tr>\n",
       "    <tr>\n",
       "      <th>1992</th>\n",
       "      <td>3136cbf3-fa99-4196-b70b-207f09a497e3</td>\n",
       "      <td>要个暖心莲藕猪肚汤</td>\n",
       "      <td>暖心莲藕猪肚汤</td>\n",
       "      <td>1</td>\n",
       "      <td>[tensor(0.8180), tensor(0.6121), tensor(1.1287...</td>\n",
       "      <td>[莲子猪肚汤, 莲子猪肚汤饭, 暖胃猪肚鸡汤, 莲子枸杞猪肚汤, 养胃猪肚汤]</td>\n",
       "      <td>[tensor(0.0295), tensor(1.2272), tensor(1.4673...</td>\n",
       "      <td>0.853855</td>\n",
       "      <td>暖胃猪肚鸡汤</td>\n",
       "    </tr>\n",
       "  </tbody>\n",
       "</table>\n",
       "<p>465 rows × 9 columns</p>\n",
       "</div>"
      ],
      "text/plain": [
       "                                      uuid            text food_feature  \\\n",
       "3     6dc1df30-6d8c-40a5-9be9-52f398623f07   天猫精灵鲜鱼豆腐汤来一份吧        鲜鱼豆腐汤   \n",
       "5     e54d8c37-1c8c-4b76-a7be-1e416e66280b  天猫精灵来碗萝卜面疙瘩热汤吧      萝卜面疙瘩热汤   \n",
       "12    19351f4a-5c2d-4416-aa7c-d8516bbe8ba9     天猫精灵来碗绿豆清凉粥        绿豆清凉粥   \n",
       "22    c6c78600-7e83-415d-8664-f4e3c0b587e1  天猫精灵来份番茄鸡蛋浇头饭吧      番茄鸡蛋浇头饭   \n",
       "28    e04b0fbc-6749-48e7-b12c-9bcefd4c2b66        来份鲜鱼豆腐汤吧        鲜鱼豆腐汤   \n",
       "...                                    ...             ...          ...   \n",
       "1983  dc0517bd-0d75-4011-bb81-9f14e94b71aa   天猫精灵来碗养胃的小米粥吧          小米粥   \n",
       "1989  47f5bac4-d6d9-418c-80ab-178490ff9612     来份热乎养胃的小米粥吧          小米粥   \n",
       "1990  615f8c03-6c18-45c5-8969-ebdc58c01c07   天猫精灵来碗暖心的菌菇汤吧          菌菇汤   \n",
       "1991  9b2b32da-dba8-447d-b090-84b48acb823d      来碗番茄汤小浑炖面吧      番茄汤小浑炖面   \n",
       "1992  3136cbf3-fa99-4196-b70b-207f09a497e3       要个暖心莲藕猪肚汤      暖心莲藕猪肚汤   \n",
       "\n",
       "     feature_class                                                cls  \\\n",
       "3                1  [tensor(-0.1967), tensor(0.9198), tensor(0.711...   \n",
       "5                1  [tensor(0.3594), tensor(-0.2250), tensor(0.731...   \n",
       "12               1  [tensor(0.6221), tensor(-0.1144), tensor(-0.13...   \n",
       "22               1  [tensor(0.4777), tensor(-0.1305), tensor(0.506...   \n",
       "28               1  [tensor(-0.1967), tensor(0.9198), tensor(0.711...   \n",
       "...            ...                                                ...   \n",
       "1983             1  [tensor(0.8989), tensor(0.8290), tensor(-0.233...   \n",
       "1989             1  [tensor(0.8989), tensor(0.8290), tensor(-0.233...   \n",
       "1990             1  [tensor(0.5653), tensor(0.2029), tensor(-0.520...   \n",
       "1991             1  [tensor(0.5655), tensor(0.6166), tensor(0.8255...   \n",
       "1992             1  [tensor(0.8180), tensor(0.6121), tensor(1.1287...   \n",
       "\n",
       "                                     Query_faiss  \\\n",
       "3            [三鲜豆腐汤, 鲫鱼豆腐汤, 豆腐鲫鱼汤, 水鱼豆腐汤, 海鲜豆腐汤]   \n",
       "5       [萝卜疙瘩汤, 萝卜丝疙瘩汤, 白萝卜疙瘩汤, 西红柿面疙瘩汤, 西红柿热面汤]   \n",
       "12           [清爽绿豆粥, 清火绿豆粥, 清香绿豆粥, 清甜绿豆粥, 绿豆解暑粥]   \n",
       "22    [番茄鸡蛋盖浇饭, 番茄鸡蛋饭, 番茄炒鸡蛋盖浇饭, 番茄鸡蛋拌饭, 番茄炒蛋浇头]   \n",
       "28           [三鲜豆腐汤, 鲫鱼豆腐汤, 豆腐鲫鱼汤, 水鱼豆腐汤, 海鲜豆腐汤]   \n",
       "...                                          ...   \n",
       "1983        [大米小米粥, 粗粮小米粥, 早餐小米粥, 小米粥南瓜粥, 牛奶小米粥]   \n",
       "1989        [大米小米粥, 粗粮小米粥, 早餐小米粥, 小米粥南瓜粥, 牛奶小米粥]   \n",
       "1990         [养生菌菇汤, 砂锅菌菇汤, 野生菌菇汤, 鲜美菌菇汤, 松茸菌菇汤]   \n",
       "1991      [番茄浓汤面, 番茄蛋汤面, 番茄鸡蛋汤面, 浓汤番茄鸡蛋面, 番茄挂面汤]   \n",
       "1992     [莲子猪肚汤, 莲子猪肚汤饭, 暖胃猪肚鸡汤, 莲子枸杞猪肚汤, 养胃猪肚汤]   \n",
       "\n",
       "                                                   cls1  similarity recommend  \n",
       "3     [tensor(-0.2713), tensor(0.0347), tensor(0.867...    0.847946     鲫鱼豆腐汤  \n",
       "5     [tensor(0.5440), tensor(0.3332), tensor(0.6148...    0.832524     萝卜疙瘩汤  \n",
       "12    [tensor(1.3211), tensor(-0.5416), tensor(-0.33...    0.896710     清爽绿豆粥  \n",
       "22    [tensor(0.1786), tensor(0.3527), tensor(0.4827...    0.895699   番茄鸡蛋盖浇饭  \n",
       "28    [tensor(-0.2713), tensor(0.0347), tensor(0.867...    0.847946     鲫鱼豆腐汤  \n",
       "...                                                 ...         ...       ...  \n",
       "1983  [tensor(1.1569), tensor(1.1570), tensor(0.1737...    0.890502    小米粥南瓜粥  \n",
       "1989  [tensor(1.1569), tensor(1.1570), tensor(0.1737...    0.890502    小米粥南瓜粥  \n",
       "1990  [tensor(0.6869), tensor(0.3218), tensor(-0.430...    0.895828     养生菌菇汤  \n",
       "1991  [tensor(0.2080), tensor(0.2614), tensor(0.7108...    0.834274     番茄浓汤面  \n",
       "1992  [tensor(0.0295), tensor(1.2272), tensor(1.4673...    0.853855    暖胃猪肚鸡汤  \n",
       "\n",
       "[465 rows x 9 columns]"
      ]
     },
     "execution_count": 18,
     "metadata": {},
     "output_type": "execute_result"
    }
   ],
   "source": [
    "df_query_2"
   ]
  },
  {
   "cell_type": "markdown",
   "id": "814ad86a",
   "metadata": {},
   "source": [
    "## faiss审核确保输出"
   ]
  },
  {
   "cell_type": "code",
   "execution_count": 19,
   "id": "1df9e68e",
   "metadata": {},
   "outputs": [],
   "source": [
    "def query_post(recommend):\n",
    "#返回最相近的菜品\n",
    "    food_cls = cls(recommend)\n",
    "    query_vector = food_cls.reshape(1, -1)\n",
    "    D, I = index.search(query_vector, k=1)  # D: 距离, I: 索引\n",
    "    return df_food.loc[I[0][0],'item_name']"
   ]
  },
  {
   "cell_type": "code",
   "execution_count": 20,
   "id": "81d8c10f",
   "metadata": {},
   "outputs": [
    {
     "name": "stderr",
     "output_type": "stream",
     "text": [
      "100%|██████████| 465/465 [00:56<00:00,  8.25it/s]\n",
      "C:\\Users\\guofengrun\\AppData\\Local\\Temp\\ipykernel_15556\\1808123285.py:2: SettingWithCopyWarning: \n",
      "A value is trying to be set on a copy of a slice from a DataFrame.\n",
      "Try using .loc[row_indexer,col_indexer] = value instead\n",
      "\n",
      "See the caveats in the documentation: https://pandas.pydata.org/pandas-docs/stable/user_guide/indexing.html#returning-a-view-versus-a-copy\n",
      "  df_query_2['recommend'] = df_query_2['recommend'].progress_apply(query_post)\n"
     ]
    }
   ],
   "source": [
    "#查询\n",
    "df_query_2['recommend'] = df_query_2['recommend'].progress_apply(query_post)"
   ]
  },
  {
   "cell_type": "code",
   "execution_count": null,
   "id": "25df1ca9",
   "metadata": {},
   "outputs": [],
   "source": [
    "#第三部分"
   ]
  },
  {
   "cell_type": "code",
   "execution_count": 39,
   "id": "7adf886b",
   "metadata": {},
   "outputs": [],
   "source": [
    "def recomend3(keyword_list,food_name):\n",
    "    mask = df_query_3['food_feature'].str.contains('|'.join(keyword_list))\n",
    "    df_query_3.loc[mask, 'recommend'] = food_name\n"
   ]
  },
  {
   "cell_type": "code",
   "execution_count": 52,
   "id": "6323e037",
   "metadata": {},
   "outputs": [],
   "source": [
    "recomend3(['少油','少盐','不油腻','少调料','蔬菜','不要太咸','别太咸','少放点调料','不要油','不要太咸','少调味的菜'],'清炒时蔬菜')\n",
    "recomend3(['养胃','易消化','容易下咽','好消化','顺口','好咽'],'养胃小米粥')\n",
    "recomend3(['清淡的'],'清淡白米粥')\n",
    "recomend3(['烂','软','糯','软乎','容易嚼的菜','不费牙','好嚼','温乎的饭菜','易嚼','炖得久的菜'],'小份烂糊白菜')\n",
    "recomend3(['营养'],'大份营养鸡汤')\n",
    "recomend3(['汤'],'西红柿紫菜汤')\n",
    "recomend3(['主食','软乎面食'],'软香大米饭')\n",
    "recomend3(['家常'],'家常炒鸡不辣')\n",
    "recomend3(['容易嚼的','容易嚼的肉'],'皮蛋瘦肉粥')\n",
    "recomend3(['不要辣'],'家常炒鸡不辣')\n",
    "recomend3(['热乎','温乎','暖和'],'温热南瓜汤')\n",
    "recomend3(['无特定要求'],'皮蛋瘦肉粥')\n",
    "\n",
    "#微调更好\n",
    "recomend3(['红枣香米粥'],'大米红枣粥')\n",
    "recomend3(['小炒'],'滋补养生小炒')\n",
    "recomend3(['罗式虾'],'招牌鲜虾粥')\n",
    "recomend3(['适合老年人的菜'],'营养八宝粥')\n"
   ]
  },
  {
   "cell_type": "code",
   "execution_count": 53,
   "id": "080aa192",
   "metadata": {},
   "outputs": [],
   "source": [
    "#拼接3部分\n",
    "df_query_0 = pd.concat([df_query_1, df_query_2, df_query_3], axis=0)"
   ]
  },
  {
   "cell_type": "markdown",
   "id": "d3c2be35",
   "metadata": {},
   "source": [
    "# 提交文件格式"
   ]
  },
  {
   "cell_type": "code",
   "execution_count": 58,
   "id": "f5bb9e2c",
   "metadata": {},
   "outputs": [],
   "source": [
    "df_result = pd.merge(df, df_query_0[['uuid','recommend']], how='left', on='uuid')"
   ]
  },
  {
   "cell_type": "code",
   "execution_count": 59,
   "id": "0b21a060",
   "metadata": {},
   "outputs": [
    {
     "data": {
      "text/plain": [
       "Index(['uuid', 'text', 'dom', 'recommend'], dtype='object')"
      ]
     },
     "execution_count": 59,
     "metadata": {},
     "output_type": "execute_result"
    }
   ],
   "source": [
    "df_result.columns"
   ]
  },
  {
   "cell_type": "code",
   "execution_count": 60,
   "id": "21dd24f5",
   "metadata": {},
   "outputs": [],
   "source": [
    "\n",
    "df_result.to_csv(r\".\\result\\Results507.txt\", \n",
    "          sep='\\t', \n",
    "          header=None, \n",
    "          index=False, \n",
    "          na_rep='')"
   ]
  },
  {
   "cell_type": "code",
   "execution_count": 38,
   "id": "b1c5e1c2",
   "metadata": {},
   "outputs": [],
   "source": [
    "# 存储时将tensor转换为list\n",
    "#df_food['cls'] = df_food['cls'].apply(lambda x: x.tolist())\n",
    "#df_food.to_csv(r'./df_food.csv',index=False)"
   ]
  },
  {
   "cell_type": "code",
   "execution_count": null,
   "id": "4843608a",
   "metadata": {},
   "outputs": [],
   "source": [
    "\n",
    "'''\n",
    "# 读取时将list转回tensor\n",
    "import ast\n",
    "df_food = pd.read_csv(r'./df_food.csv')\n",
    "df_food['cls'] = df_food['cls'].apply(lambda x: torch.tensor(ast.literal_eval(x)))\n",
    "'''"
   ]
  },
  {
   "cell_type": "code",
   "execution_count": 40,
   "id": "bbfb08e0",
   "metadata": {},
   "outputs": [],
   "source": [
    "#df_query[df_query['similarity']<0.7][['text','Query_faiss','nlp_post','similarity']].to_excel('./微调/模糊菜品430.xlsx')"
   ]
  },
  {
   "cell_type": "code",
   "execution_count": 41,
   "id": "520870e3",
   "metadata": {},
   "outputs": [],
   "source": [
    "#df_query.to_csv(r'./微调/df_query.csv')"
   ]
  }
 ],
 "metadata": {
  "kernelspec": {
   "display_name": "base",
   "language": "python",
   "name": "python3"
  },
  "language_info": {
   "codemirror_mode": {
    "name": "ipython",
    "version": 3
   },
   "file_extension": ".py",
   "mimetype": "text/x-python",
   "name": "python",
   "nbconvert_exporter": "python",
   "pygments_lexer": "ipython3",
   "version": "3.12.7"
  }
 },
 "nbformat": 4,
 "nbformat_minor": 5
}
