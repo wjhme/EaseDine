{
 "cells": [
  {
   "cell_type": "markdown",
   "id": "bcbe0689",
   "metadata": {},
   "source": [
    "# 文件读取"
   ]
  },
  {
   "cell_type": "code",
   "execution_count": 1,
   "id": "da56bed2",
   "metadata": {},
   "outputs": [],
   "source": [
    "import pandas as pd \n",
    "import matplotlib.pyplot as plt\n",
    "from tqdm import tqdm\n",
    "tqdm.pandas()\n",
    "import faiss\n",
    "import pandas as pd\n",
    "import numpy as np\n",
    "import torch\n",
    "\n",
    "import os\n",
    "os.chdir(r\"C:\\天池比赛\")"
   ]
  },
  {
   "cell_type": "code",
   "execution_count": 2,
   "id": "8bfcc11a",
   "metadata": {},
   "outputs": [],
   "source": [
    "df = pd.read_csv(r\".\\A_audio_recognition_dom_189_train_val_avg.txt\", sep='\\t')\n",
    "#df_food = pd.read_csv(r'.\\商品-清洗.txt')\n",
    "df_query = df[df['dom']==1]\n",
    "#df_query = df_query.head(10)"
   ]
  },
  {
   "cell_type": "code",
   "execution_count": 3,
   "id": "c023e6af",
   "metadata": {},
   "outputs": [
    {
     "data": {
      "text/html": [
       "<div>\n",
       "<style scoped>\n",
       "    .dataframe tbody tr th:only-of-type {\n",
       "        vertical-align: middle;\n",
       "    }\n",
       "\n",
       "    .dataframe tbody tr th {\n",
       "        vertical-align: top;\n",
       "    }\n",
       "\n",
       "    .dataframe thead th {\n",
       "        text-align: right;\n",
       "    }\n",
       "</style>\n",
       "<table border=\"1\" class=\"dataframe\">\n",
       "  <thead>\n",
       "    <tr style=\"text-align: right;\">\n",
       "      <th></th>\n",
       "      <th>uuid</th>\n",
       "      <th>text</th>\n",
       "      <th>dom</th>\n",
       "    </tr>\n",
       "  </thead>\n",
       "  <tbody>\n",
       "    <tr>\n",
       "      <th>2</th>\n",
       "      <td>6968138b-204e-4a12-9366-89f004aa4f56</td>\n",
       "      <td>天猫精灵要个家常花菜炒肉片吧</td>\n",
       "      <td>1</td>\n",
       "    </tr>\n",
       "    <tr>\n",
       "      <th>3</th>\n",
       "      <td>50005371-9bfd-45fc-9232-2fd269bc7b5f</td>\n",
       "      <td>来碗家常紫菜蛋花汤吧</td>\n",
       "      <td>1</td>\n",
       "    </tr>\n",
       "    <tr>\n",
       "      <th>4</th>\n",
       "      <td>03a15e19-9092-4671-b66c-12990f7af090</td>\n",
       "      <td>天猫精灵要碗红枣山药养胃粥吧</td>\n",
       "      <td>1</td>\n",
       "    </tr>\n",
       "    <tr>\n",
       "      <th>5</th>\n",
       "      <td>6dc1df30-6d8c-40a5-9be9-52f398623f07</td>\n",
       "      <td>天猫精灵鲜鱼豆腐汤来一份吧</td>\n",
       "      <td>1</td>\n",
       "    </tr>\n",
       "    <tr>\n",
       "      <th>6</th>\n",
       "      <td>38b8fafe-19f0-4003-ab7f-642f5a78a1dd</td>\n",
       "      <td>天猫精灵少油少盐的就行</td>\n",
       "      <td>1</td>\n",
       "    </tr>\n",
       "    <tr>\n",
       "      <th>...</th>\n",
       "      <td>...</td>\n",
       "      <td>...</td>\n",
       "      <td>...</td>\n",
       "    </tr>\n",
       "    <tr>\n",
       "      <th>3991</th>\n",
       "      <td>9b2b32da-dba8-447d-b090-84b48acb823d</td>\n",
       "      <td>来碗番茄汤小浑炖面吧</td>\n",
       "      <td>1</td>\n",
       "    </tr>\n",
       "    <tr>\n",
       "      <th>3993</th>\n",
       "      <td>3136cbf3-fa99-4196-b70b-207f09a497e3</td>\n",
       "      <td>要个暖心莲藕猪肚汤</td>\n",
       "      <td>1</td>\n",
       "    </tr>\n",
       "    <tr>\n",
       "      <th>3996</th>\n",
       "      <td>1341f3d3-7933-4832-9079-8beb49832649</td>\n",
       "      <td>天猫精灵来点养胃的</td>\n",
       "      <td>1</td>\n",
       "    </tr>\n",
       "    <tr>\n",
       "      <th>3997</th>\n",
       "      <td>79ede6cc-ee69-4a21-89bb-7315a0b0f215</td>\n",
       "      <td>天猫精灵来碗热乎的小米南瓜粥吧</td>\n",
       "      <td>1</td>\n",
       "    </tr>\n",
       "    <tr>\n",
       "      <th>3998</th>\n",
       "      <td>22047cac-13a8-4d6f-b7dd-e18db07a212a</td>\n",
       "      <td>天猫精灵来碗南瓜小米养胃粥</td>\n",
       "      <td>1</td>\n",
       "    </tr>\n",
       "  </tbody>\n",
       "</table>\n",
       "<p>1996 rows × 3 columns</p>\n",
       "</div>"
      ],
      "text/plain": [
       "                                      uuid             text  dom\n",
       "2     6968138b-204e-4a12-9366-89f004aa4f56   天猫精灵要个家常花菜炒肉片吧    1\n",
       "3     50005371-9bfd-45fc-9232-2fd269bc7b5f       来碗家常紫菜蛋花汤吧    1\n",
       "4     03a15e19-9092-4671-b66c-12990f7af090   天猫精灵要碗红枣山药养胃粥吧    1\n",
       "5     6dc1df30-6d8c-40a5-9be9-52f398623f07    天猫精灵鲜鱼豆腐汤来一份吧    1\n",
       "6     38b8fafe-19f0-4003-ab7f-642f5a78a1dd      天猫精灵少油少盐的就行    1\n",
       "...                                    ...              ...  ...\n",
       "3991  9b2b32da-dba8-447d-b090-84b48acb823d       来碗番茄汤小浑炖面吧    1\n",
       "3993  3136cbf3-fa99-4196-b70b-207f09a497e3        要个暖心莲藕猪肚汤    1\n",
       "3996  1341f3d3-7933-4832-9079-8beb49832649        天猫精灵来点养胃的    1\n",
       "3997  79ede6cc-ee69-4a21-89bb-7315a0b0f215  天猫精灵来碗热乎的小米南瓜粥吧    1\n",
       "3998  22047cac-13a8-4d6f-b7dd-e18db07a212a    天猫精灵来碗南瓜小米养胃粥    1\n",
       "\n",
       "[1996 rows x 3 columns]"
      ]
     },
     "execution_count": 3,
     "metadata": {},
     "output_type": "execute_result"
    }
   ],
   "source": [
    "df_query"
   ]
  },
  {
   "cell_type": "code",
   "execution_count": 4,
   "id": "b243ab20",
   "metadata": {},
   "outputs": [],
   "source": [
    "##模糊测试\n",
    "#df_query = pd.read_excel(r\".\\模糊.xlsx\")\n",
    "#df_query = df_query[['uuid','dom','food_feature','feature_class']]"
   ]
  },
  {
   "cell_type": "code",
   "execution_count": 5,
   "id": "27422473",
   "metadata": {},
   "outputs": [
    {
     "data": {
      "text/html": [
       "<div>\n",
       "<style scoped>\n",
       "    .dataframe tbody tr th:only-of-type {\n",
       "        vertical-align: middle;\n",
       "    }\n",
       "\n",
       "    .dataframe tbody tr th {\n",
       "        vertical-align: top;\n",
       "    }\n",
       "\n",
       "    .dataframe thead th {\n",
       "        text-align: right;\n",
       "    }\n",
       "</style>\n",
       "<table border=\"1\" class=\"dataframe\">\n",
       "  <thead>\n",
       "    <tr style=\"text-align: right;\">\n",
       "      <th></th>\n",
       "      <th>uuid</th>\n",
       "      <th>text</th>\n",
       "      <th>dom</th>\n",
       "    </tr>\n",
       "  </thead>\n",
       "  <tbody>\n",
       "    <tr>\n",
       "      <th>2</th>\n",
       "      <td>6968138b-204e-4a12-9366-89f004aa4f56</td>\n",
       "      <td>天猫精灵要个家常花菜炒肉片吧</td>\n",
       "      <td>1</td>\n",
       "    </tr>\n",
       "    <tr>\n",
       "      <th>3</th>\n",
       "      <td>50005371-9bfd-45fc-9232-2fd269bc7b5f</td>\n",
       "      <td>来碗家常紫菜蛋花汤吧</td>\n",
       "      <td>1</td>\n",
       "    </tr>\n",
       "    <tr>\n",
       "      <th>4</th>\n",
       "      <td>03a15e19-9092-4671-b66c-12990f7af090</td>\n",
       "      <td>天猫精灵要碗红枣山药养胃粥吧</td>\n",
       "      <td>1</td>\n",
       "    </tr>\n",
       "    <tr>\n",
       "      <th>5</th>\n",
       "      <td>6dc1df30-6d8c-40a5-9be9-52f398623f07</td>\n",
       "      <td>天猫精灵鲜鱼豆腐汤来一份吧</td>\n",
       "      <td>1</td>\n",
       "    </tr>\n",
       "    <tr>\n",
       "      <th>6</th>\n",
       "      <td>38b8fafe-19f0-4003-ab7f-642f5a78a1dd</td>\n",
       "      <td>天猫精灵少油少盐的就行</td>\n",
       "      <td>1</td>\n",
       "    </tr>\n",
       "    <tr>\n",
       "      <th>...</th>\n",
       "      <td>...</td>\n",
       "      <td>...</td>\n",
       "      <td>...</td>\n",
       "    </tr>\n",
       "    <tr>\n",
       "      <th>3991</th>\n",
       "      <td>9b2b32da-dba8-447d-b090-84b48acb823d</td>\n",
       "      <td>来碗番茄汤小浑炖面吧</td>\n",
       "      <td>1</td>\n",
       "    </tr>\n",
       "    <tr>\n",
       "      <th>3993</th>\n",
       "      <td>3136cbf3-fa99-4196-b70b-207f09a497e3</td>\n",
       "      <td>要个暖心莲藕猪肚汤</td>\n",
       "      <td>1</td>\n",
       "    </tr>\n",
       "    <tr>\n",
       "      <th>3996</th>\n",
       "      <td>1341f3d3-7933-4832-9079-8beb49832649</td>\n",
       "      <td>天猫精灵来点养胃的</td>\n",
       "      <td>1</td>\n",
       "    </tr>\n",
       "    <tr>\n",
       "      <th>3997</th>\n",
       "      <td>79ede6cc-ee69-4a21-89bb-7315a0b0f215</td>\n",
       "      <td>天猫精灵来碗热乎的小米南瓜粥吧</td>\n",
       "      <td>1</td>\n",
       "    </tr>\n",
       "    <tr>\n",
       "      <th>3998</th>\n",
       "      <td>22047cac-13a8-4d6f-b7dd-e18db07a212a</td>\n",
       "      <td>天猫精灵来碗南瓜小米养胃粥</td>\n",
       "      <td>1</td>\n",
       "    </tr>\n",
       "  </tbody>\n",
       "</table>\n",
       "<p>1996 rows × 3 columns</p>\n",
       "</div>"
      ],
      "text/plain": [
       "                                      uuid             text  dom\n",
       "2     6968138b-204e-4a12-9366-89f004aa4f56   天猫精灵要个家常花菜炒肉片吧    1\n",
       "3     50005371-9bfd-45fc-9232-2fd269bc7b5f       来碗家常紫菜蛋花汤吧    1\n",
       "4     03a15e19-9092-4671-b66c-12990f7af090   天猫精灵要碗红枣山药养胃粥吧    1\n",
       "5     6dc1df30-6d8c-40a5-9be9-52f398623f07    天猫精灵鲜鱼豆腐汤来一份吧    1\n",
       "6     38b8fafe-19f0-4003-ab7f-642f5a78a1dd      天猫精灵少油少盐的就行    1\n",
       "...                                    ...              ...  ...\n",
       "3991  9b2b32da-dba8-447d-b090-84b48acb823d       来碗番茄汤小浑炖面吧    1\n",
       "3993  3136cbf3-fa99-4196-b70b-207f09a497e3        要个暖心莲藕猪肚汤    1\n",
       "3996  1341f3d3-7933-4832-9079-8beb49832649        天猫精灵来点养胃的    1\n",
       "3997  79ede6cc-ee69-4a21-89bb-7315a0b0f215  天猫精灵来碗热乎的小米南瓜粥吧    1\n",
       "3998  22047cac-13a8-4d6f-b7dd-e18db07a212a    天猫精灵来碗南瓜小米养胃粥    1\n",
       "\n",
       "[1996 rows x 3 columns]"
      ]
     },
     "execution_count": 5,
     "metadata": {},
     "output_type": "execute_result"
    }
   ],
   "source": [
    "df_query"
   ]
  },
  {
   "cell_type": "markdown",
   "id": "96fb09c6",
   "metadata": {},
   "source": [
    "# 大模型提取关键信息"
   ]
  },
  {
   "cell_type": "code",
   "execution_count": 6,
   "id": "2ae8586b",
   "metadata": {},
   "outputs": [],
   "source": [
    "import os\n",
    "from openai import OpenAI\n",
    "#后续尝试批量请求加速时间\n",
    "def food_feature(sentence):\n",
    "    message = [\n",
    "        {'role': 'system',\n",
    "         'content': '''你是一个文本分析助手。输入为句子，输出为从句子中提取的菜名，如果没有具体菜名，则从句子中提取有关菜品的描述特征。\n",
    "         例如：\n",
    "        user:天猫精灵来碗红枣桂圆养胃粥要热乎的  assistant：红枣桂圆养胃粥  \n",
    "        user:天猫精灵少油少盐的就行  assistant:少油少盐'''},\n",
    "        {'role': 'user', 'content':sentence}]\n",
    "    client = OpenAI(\n",
    "        # 若没有配置环境变量，请用百炼API Key将下行替换为：api_key=\"sk-xxx\",\n",
    "        api_key=\"sk-606b64b8196d4f119a7fb1789c86ac7c\", \n",
    "        base_url=\"https://dashscope.aliyuncs.com/compatible-mode/v1\",\n",
    "    )\n",
    "    completion = client.chat.completions.create(\n",
    "        model=\"qwen2.5-32b-instruct\", # 此处以qwen-plus为例，可按需更换模型名称。模型列表：https://help.aliyun.com/zh/model-studio/getting-started/models\n",
    "        messages=message,\n",
    "        )\n",
    "    return completion.choices[0].message.content"
   ]
  },
  {
   "cell_type": "code",
   "execution_count": 7,
   "id": "8703d621",
   "metadata": {},
   "outputs": [
    {
     "name": "stderr",
     "output_type": "stream",
     "text": [
      "100%|██████████| 1996/1996 [39:06<00:00,  1.18s/it]  \n",
      "C:\\Users\\guofengrun\\AppData\\Local\\Temp\\ipykernel_16264\\8730497.py:1: SettingWithCopyWarning: \n",
      "A value is trying to be set on a copy of a slice from a DataFrame.\n",
      "Try using .loc[row_indexer,col_indexer] = value instead\n",
      "\n",
      "See the caveats in the documentation: https://pandas.pydata.org/pandas-docs/stable/user_guide/indexing.html#returning-a-view-versus-a-copy\n",
      "  df_query['food_feature'] = df_query['text'].progress_apply(food_feature)\n"
     ]
    }
   ],
   "source": [
    "df_query['food_feature'] = df_query['text'].progress_apply(food_feature)"
   ]
  },
  {
   "cell_type": "code",
   "execution_count": 8,
   "id": "138ed02e",
   "metadata": {},
   "outputs": [],
   "source": [
    "import os\n",
    "from openai import OpenAI\n",
    "#后续尝试批量请求加速时间\n",
    "def food_class(sentence):\n",
    "    message = [\n",
    "        {'role': 'system', \n",
    "         'content': '''你要做一个二分类任务，如果输入为菜品，返回1，如果输入为对菜品的模糊描述，返回0。\n",
    "        例如:\n",
    "        user： 红枣桂圆养胃粥 assistant：1  \n",
    "        user：软和的 assistant：0'''},\n",
    "        {'role': 'user', 'content':sentence}]\n",
    "    client = OpenAI(\n",
    "        # 若没有配置环境变量，请用百炼API Key将下行替换为：api_key=\"sk-xxx\",\n",
    "        api_key=\"sk-606b64b8196d4f119a7fb1789c86ac7c\", \n",
    "        base_url=\"https://dashscope.aliyuncs.com/compatible-mode/v1\",\n",
    "    )\n",
    "    completion = client.chat.completions.create(\n",
    "        model=\"qwen2.5-32b-instruct\", # 此处以qwen-plus为例，可按需更换模型名称。模型列表：https://help.aliyun.com/zh/model-studio/getting-started/models\n",
    "        messages=message,\n",
    "        )\n",
    "    return completion.choices[0].message.content"
   ]
  },
  {
   "cell_type": "code",
   "execution_count": 9,
   "id": "8e13cc73",
   "metadata": {},
   "outputs": [
    {
     "name": "stderr",
     "output_type": "stream",
     "text": [
      "100%|██████████| 1996/1996 [35:14<00:00,  1.06s/it]  \n",
      "C:\\Users\\guofengrun\\AppData\\Local\\Temp\\ipykernel_16264\\2209501132.py:1: SettingWithCopyWarning: \n",
      "A value is trying to be set on a copy of a slice from a DataFrame.\n",
      "Try using .loc[row_indexer,col_indexer] = value instead\n",
      "\n",
      "See the caveats in the documentation: https://pandas.pydata.org/pandas-docs/stable/user_guide/indexing.html#returning-a-view-versus-a-copy\n",
      "  df_query['feature_class'] = df_query['food_feature'].progress_apply(food_class)\n"
     ]
    }
   ],
   "source": [
    "df_query['feature_class'] = df_query['food_feature'].progress_apply(food_class)"
   ]
  },
  {
   "cell_type": "markdown",
   "id": "5f005e49",
   "metadata": {},
   "source": [
    "# 召回"
   ]
  },
  {
   "cell_type": "markdown",
   "id": "ec2f1837",
   "metadata": {},
   "source": [
    "### bge——>embedding"
   ]
  },
  {
   "cell_type": "code",
   "execution_count": 10,
   "id": "0eab0401",
   "metadata": {},
   "outputs": [],
   "source": [
    "from transformers import AutoTokenizer, AutoModel\n",
    "import torch\n",
    "path = \"./BAAI\"\n",
    "# 初始化模型和分词器\n",
    "tokenizer = AutoTokenizer.from_pretrained(path)\n",
    "model = AutoModel.from_pretrained(path)\n",
    " \n"
   ]
  },
  {
   "cell_type": "code",
   "execution_count": 11,
   "id": "b496e129",
   "metadata": {},
   "outputs": [],
   "source": [
    "#转换词向量函数\n",
    "def cls(text): \n",
    "    input = tokenizer(text, return_tensors=\"pt\", padding=True, truncation=True)\n",
    "    with torch.no_grad():\n",
    "        output = model(**input).last_hidden_state\n",
    "    cls_embedding = output[:, 0, :]\n",
    "    cls_embedding = cls_embedding[0]\n",
    "    return cls_embedding"
   ]
  },
  {
   "cell_type": "code",
   "execution_count": 12,
   "id": "da2519f5",
   "metadata": {},
   "outputs": [],
   "source": [
    "#df_food = pd.read_csv(r'.\\商品-清洗.txt')\n",
    "#df_food['cls'] = df_food['item_name'].progress_apply(cls)"
   ]
  },
  {
   "cell_type": "code",
   "execution_count": 13,
   "id": "2cde2919",
   "metadata": {},
   "outputs": [],
   "source": [
    "# 存储时将tensor转换为list\n",
    "#df_food['cls'] = df_food['cls'].apply(lambda x: x.tolist())\n",
    "#df_food.to_csv(r'./df_food.csv')"
   ]
  },
  {
   "cell_type": "code",
   "execution_count": 14,
   "id": "d2516791",
   "metadata": {},
   "outputs": [],
   "source": [
    "\n",
    "\n",
    "# 读取时将list转回tensor\n",
    "import ast\n",
    "df_food = pd.read_csv(r'./df_food.csv')\n",
    "df_food['cls'] = df_food['cls'].apply(lambda x: torch.tensor(ast.literal_eval(x)))\n"
   ]
  },
  {
   "cell_type": "code",
   "execution_count": 15,
   "id": "7d47f0e9",
   "metadata": {},
   "outputs": [
    {
     "name": "stderr",
     "output_type": "stream",
     "text": [
      "  0%|          | 0/1996 [00:00<?, ?it/s]Asking to truncate to max_length but no maximum length is provided and the model has no predefined maximum length. Default to no truncation.\n",
      "100%|██████████| 1996/1996 [04:23<00:00,  7.58it/s]\n",
      "C:\\Users\\guofengrun\\AppData\\Local\\Temp\\ipykernel_16264\\1331004436.py:1: SettingWithCopyWarning: \n",
      "A value is trying to be set on a copy of a slice from a DataFrame.\n",
      "Try using .loc[row_indexer,col_indexer] = value instead\n",
      "\n",
      "See the caveats in the documentation: https://pandas.pydata.org/pandas-docs/stable/user_guide/indexing.html#returning-a-view-versus-a-copy\n",
      "  df_query['cls'] = df_query['food_feature'].progress_apply(cls)\n"
     ]
    }
   ],
   "source": [
    "df_query['cls'] = df_query['food_feature'].progress_apply(cls)"
   ]
  },
  {
   "cell_type": "markdown",
   "id": "a453e5d0",
   "metadata": {},
   "source": [
    "### FAISS 存储"
   ]
  },
  {
   "cell_type": "code",
   "execution_count": 16,
   "id": "358faa2d",
   "metadata": {},
   "outputs": [],
   "source": [
    "## https://blog.csdn.net/weixin_43114209/article/details/141716443"
   ]
  },
  {
   "cell_type": "code",
   "execution_count": 17,
   "id": "0790250d",
   "metadata": {},
   "outputs": [
    {
     "name": "stdout",
     "output_type": "stream",
     "text": [
      "向量数量：10990\n"
     ]
    }
   ],
   "source": [
    "# 把向量堆叠成 numpy 数组（shape: N x dim）\n",
    "embeddings = np.stack(df_food['cls'].values).astype('float32')\n",
    "dim = embeddings.shape[1]\n",
    "\n",
    "# 创建索引（使用 L2 距离）\n",
    "index = faiss.IndexFlatL2(dim)\n",
    "index.add(embeddings)\n",
    "\n",
    "print(f\"向量数量：{index.ntotal}\")\n"
   ]
  },
  {
   "cell_type": "code",
   "execution_count": 18,
   "id": "34d1b590",
   "metadata": {},
   "outputs": [],
   "source": [
    "def query(food_cls,feature_class):\n",
    "    query_vector = food_cls.reshape(1, -1)\n",
    "    D, I = index.search(query_vector, k=5)  # D: 距离, I: 索引\n",
    "    formatted = list(df_food.loc[s,'item_name'] for i, s in enumerate(I[0]))\n",
    "    if feature_class == '0':\n",
    "        formatted += ['营养配餐粥','养胃小米粥','小份烂糊白菜','骨汤鸡蛋汤','清炒时蔬菜']\n",
    "    return formatted"
   ]
  },
  {
   "cell_type": "code",
   "execution_count": 19,
   "id": "942f4a7a",
   "metadata": {},
   "outputs": [
    {
     "name": "stderr",
     "output_type": "stream",
     "text": [
      "100%|██████████| 1996/1996 [00:07<00:00, 259.77it/s]\n",
      "C:\\Users\\guofengrun\\AppData\\Local\\Temp\\ipykernel_16264\\1287812245.py:2: SettingWithCopyWarning: \n",
      "A value is trying to be set on a copy of a slice from a DataFrame.\n",
      "Try using .loc[row_indexer,col_indexer] = value instead\n",
      "\n",
      "See the caveats in the documentation: https://pandas.pydata.org/pandas-docs/stable/user_guide/indexing.html#returning-a-view-versus-a-copy\n",
      "  df_query['Query_faiss'] = df_query.progress_apply(lambda row: query(row['cls'],row['feature_class']),axis=1)\n"
     ]
    }
   ],
   "source": [
    "#查询\n",
    "df_query['Query_faiss'] = df_query.progress_apply(lambda row: query(row['cls'],row['feature_class']),axis=1)"
   ]
  },
  {
   "cell_type": "code",
   "execution_count": 20,
   "id": "1ddd5b9a",
   "metadata": {},
   "outputs": [],
   "source": [
    "## nlp推荐\n",
    "def nlp_recommend(food_name,food_choice):\n",
    "    input = food_name+'+'+str(food_choice)\n",
    "    message = [\n",
    "        {'role': 'system', 'content': '''你是一个智能点餐助手。给你一个点餐文本，以及可能的菜品列表。你的任务是从菜品列表中选出最符合点餐文本的菜品，并且只返回该菜品名称。\n",
    "                    例如：\n",
    "                    user：天猫精灵要个家常花菜炒肉片吧+[花菜炒肉片, 菜花炒肉片, 家常炒花菜, 花菜家常炒, 花菜炒肉丝]\n",
    "                    assistant:花菜炒肉片'''},\n",
    "        {'role': 'user', 'content':input}]\n",
    "    client = OpenAI(\n",
    "        # 若没有配置环境变量，请用百炼API Key将下行替换为：api_key=\"sk-xxx\",\n",
    "        api_key=\"sk-606b64b8196d4f119a7fb1789c86ac7c\", \n",
    "        base_url=\"https://dashscope.aliyuncs.com/compatible-mode/v1\",\n",
    "    )\n",
    "    completion = client.chat.completions.create(\n",
    "        model=\"qwen2.5-32b-instruct\", # 此处以qwen-plus为例，可按需更换模型名称。模型列表：https://help.aliyun.com/zh/model-studio/getting-started/models\n",
    "        messages=message,\n",
    "        )\n",
    "    return completion.choices[0].message.content"
   ]
  },
  {
   "cell_type": "code",
   "execution_count": 21,
   "id": "04694109",
   "metadata": {},
   "outputs": [
    {
     "name": "stderr",
     "output_type": "stream",
     "text": [
      "100%|██████████| 1996/1996 [42:41<00:00,  1.28s/it]  \n",
      "C:\\Users\\guofengrun\\AppData\\Local\\Temp\\ipykernel_16264\\862560796.py:1: SettingWithCopyWarning: \n",
      "A value is trying to be set on a copy of a slice from a DataFrame.\n",
      "Try using .loc[row_indexer,col_indexer] = value instead\n",
      "\n",
      "See the caveats in the documentation: https://pandas.pydata.org/pandas-docs/stable/user_guide/indexing.html#returning-a-view-versus-a-copy\n",
      "  df_query['nlp_recommend'] = df_query.progress_apply(lambda row: nlp_recommend(row['text'], row['Query_faiss']), axis=1)\n"
     ]
    }
   ],
   "source": [
    "df_query['nlp_recommend'] = df_query.progress_apply(lambda row: nlp_recommend(row['text'], row['Query_faiss']), axis=1)"
   ]
  },
  {
   "cell_type": "code",
   "execution_count": 22,
   "id": "ca039d3b",
   "metadata": {},
   "outputs": [
    {
     "data": {
      "text/html": [
       "<div>\n",
       "<style scoped>\n",
       "    .dataframe tbody tr th:only-of-type {\n",
       "        vertical-align: middle;\n",
       "    }\n",
       "\n",
       "    .dataframe tbody tr th {\n",
       "        vertical-align: top;\n",
       "    }\n",
       "\n",
       "    .dataframe thead th {\n",
       "        text-align: right;\n",
       "    }\n",
       "</style>\n",
       "<table border=\"1\" class=\"dataframe\">\n",
       "  <thead>\n",
       "    <tr style=\"text-align: right;\">\n",
       "      <th></th>\n",
       "      <th>uuid</th>\n",
       "      <th>text</th>\n",
       "      <th>dom</th>\n",
       "      <th>food_feature</th>\n",
       "      <th>feature_class</th>\n",
       "      <th>cls</th>\n",
       "      <th>Query_faiss</th>\n",
       "      <th>nlp_recommend</th>\n",
       "    </tr>\n",
       "  </thead>\n",
       "  <tbody>\n",
       "    <tr>\n",
       "      <th>2</th>\n",
       "      <td>6968138b-204e-4a12-9366-89f004aa4f56</td>\n",
       "      <td>天猫精灵要个家常花菜炒肉片吧</td>\n",
       "      <td>1</td>\n",
       "      <td>家常花菜炒肉片</td>\n",
       "      <td>1</td>\n",
       "      <td>[tensor(0.8875), tensor(0.1605), tensor(-0.554...</td>\n",
       "      <td>[花菜炒肉片, 菜花炒肉片, 家常炒花菜, 花菜家常炒, 花菜炒肉丝]</td>\n",
       "      <td>花菜炒肉片</td>\n",
       "    </tr>\n",
       "    <tr>\n",
       "      <th>3</th>\n",
       "      <td>50005371-9bfd-45fc-9232-2fd269bc7b5f</td>\n",
       "      <td>来碗家常紫菜蛋花汤吧</td>\n",
       "      <td>1</td>\n",
       "      <td>紫菜蛋花汤</td>\n",
       "      <td>1</td>\n",
       "      <td>[tensor(0.7710), tensor(0.2389), tensor(-0.238...</td>\n",
       "      <td>[紫菜蛋花汤, 蛋花紫菜汤, 紫菜蛋花儿汤, 营养紫菜蛋花汤, 美味紫菜蛋花汤]</td>\n",
       "      <td>紫菜蛋花汤</td>\n",
       "    </tr>\n",
       "    <tr>\n",
       "      <th>4</th>\n",
       "      <td>03a15e19-9092-4671-b66c-12990f7af090</td>\n",
       "      <td>天猫精灵要碗红枣山药养胃粥吧</td>\n",
       "      <td>1</td>\n",
       "      <td>红枣山药养胃粥</td>\n",
       "      <td>1</td>\n",
       "      <td>[tensor(1.6882), tensor(0.9229), tensor(0.5272...</td>\n",
       "      <td>[红枣山药粥, 山药红枣粥, 红枣养胃粥, 山药大麦红枣粥, 红枣山药大麦粥]</td>\n",
       "      <td>红枣山药粥</td>\n",
       "    </tr>\n",
       "    <tr>\n",
       "      <th>5</th>\n",
       "      <td>6dc1df30-6d8c-40a5-9be9-52f398623f07</td>\n",
       "      <td>天猫精灵鲜鱼豆腐汤来一份吧</td>\n",
       "      <td>1</td>\n",
       "      <td>鲜鱼豆腐汤</td>\n",
       "      <td>1</td>\n",
       "      <td>[tensor(-0.1967), tensor(0.9198), tensor(0.711...</td>\n",
       "      <td>[三鲜豆腐汤, 鲫鱼豆腐汤, 豆腐鲫鱼汤, 水鱼豆腐汤, 海鲜豆腐汤]</td>\n",
       "      <td>鲫鱼豆腐汤</td>\n",
       "    </tr>\n",
       "    <tr>\n",
       "      <th>6</th>\n",
       "      <td>38b8fafe-19f0-4003-ab7f-642f5a78a1dd</td>\n",
       "      <td>天猫精灵少油少盐的就行</td>\n",
       "      <td>1</td>\n",
       "      <td>少油少盐</td>\n",
       "      <td>0</td>\n",
       "      <td>[tensor(0.6344), tensor(0.7226), tensor(0.4432...</td>\n",
       "      <td>[三荤两素加米饭, 小米粥或者玉米粥, 一荤两素加米饭, 三荤二素一汤一饭, 三荤二素一饭一...</td>\n",
       "      <td>清炒时蔬菜</td>\n",
       "    </tr>\n",
       "    <tr>\n",
       "      <th>...</th>\n",
       "      <td>...</td>\n",
       "      <td>...</td>\n",
       "      <td>...</td>\n",
       "      <td>...</td>\n",
       "      <td>...</td>\n",
       "      <td>...</td>\n",
       "      <td>...</td>\n",
       "      <td>...</td>\n",
       "    </tr>\n",
       "    <tr>\n",
       "      <th>3991</th>\n",
       "      <td>9b2b32da-dba8-447d-b090-84b48acb823d</td>\n",
       "      <td>来碗番茄汤小浑炖面吧</td>\n",
       "      <td>1</td>\n",
       "      <td>番茄汤小浑炖面</td>\n",
       "      <td>1</td>\n",
       "      <td>[tensor(0.5655), tensor(0.6166), tensor(0.8255...</td>\n",
       "      <td>[番茄浓汤面, 番茄蛋汤面, 番茄鸡蛋汤面, 浓汤番茄鸡蛋面, 番茄挂面汤]</td>\n",
       "      <td>番茄浓汤面</td>\n",
       "    </tr>\n",
       "    <tr>\n",
       "      <th>3993</th>\n",
       "      <td>3136cbf3-fa99-4196-b70b-207f09a497e3</td>\n",
       "      <td>要个暖心莲藕猪肚汤</td>\n",
       "      <td>1</td>\n",
       "      <td>暖心莲藕猪肚汤</td>\n",
       "      <td>1</td>\n",
       "      <td>[tensor(0.8180), tensor(0.6121), tensor(1.1287...</td>\n",
       "      <td>[莲子猪肚汤, 莲子猪肚汤饭, 暖胃猪肚鸡汤, 莲子枸杞猪肚汤, 养胃猪肚汤]</td>\n",
       "      <td>暖胃猪肚鸡汤</td>\n",
       "    </tr>\n",
       "    <tr>\n",
       "      <th>3996</th>\n",
       "      <td>1341f3d3-7933-4832-9079-8beb49832649</td>\n",
       "      <td>天猫精灵来点养胃的</td>\n",
       "      <td>1</td>\n",
       "      <td>养胃的</td>\n",
       "      <td>0</td>\n",
       "      <td>[tensor(0.9521), tensor(0.8913), tensor(0.6510...</td>\n",
       "      <td>[养胃丨小米粥, 养胃的现熬皮蛋瘦肉粥, 养胃燕麦粥, 小米养胃粥, 红枣养胃粥, 营养配餐...</td>\n",
       "      <td>养胃丨小米粥</td>\n",
       "    </tr>\n",
       "    <tr>\n",
       "      <th>3997</th>\n",
       "      <td>79ede6cc-ee69-4a21-89bb-7315a0b0f215</td>\n",
       "      <td>天猫精灵来碗热乎的小米南瓜粥吧</td>\n",
       "      <td>1</td>\n",
       "      <td>小米南瓜粥</td>\n",
       "      <td>1</td>\n",
       "      <td>[tensor(1.4292), tensor(0.2816), tensor(0.0894...</td>\n",
       "      <td>[小米南瓜粥, 南瓜小米粥, 小米粥南瓜粥, 小米健康南瓜粥, 南瓜小米养生粥]</td>\n",
       "      <td>小米南瓜粥</td>\n",
       "    </tr>\n",
       "    <tr>\n",
       "      <th>3998</th>\n",
       "      <td>22047cac-13a8-4d6f-b7dd-e18db07a212a</td>\n",
       "      <td>天猫精灵来碗南瓜小米养胃粥</td>\n",
       "      <td>1</td>\n",
       "      <td>南瓜小米养胃粥</td>\n",
       "      <td>1</td>\n",
       "      <td>[tensor(1.5522), tensor(0.4679), tensor(0.4628...</td>\n",
       "      <td>[小米南瓜养胃粥, 养胃南瓜小米粥, 小米南瓜粥养胃粥, 养胃小米南瓜粥, 健胃小米南瓜粥]</td>\n",
       "      <td>小米南瓜养胃粥</td>\n",
       "    </tr>\n",
       "  </tbody>\n",
       "</table>\n",
       "<p>1996 rows × 8 columns</p>\n",
       "</div>"
      ],
      "text/plain": [
       "                                      uuid             text  dom food_feature  \\\n",
       "2     6968138b-204e-4a12-9366-89f004aa4f56   天猫精灵要个家常花菜炒肉片吧    1      家常花菜炒肉片   \n",
       "3     50005371-9bfd-45fc-9232-2fd269bc7b5f       来碗家常紫菜蛋花汤吧    1        紫菜蛋花汤   \n",
       "4     03a15e19-9092-4671-b66c-12990f7af090   天猫精灵要碗红枣山药养胃粥吧    1      红枣山药养胃粥   \n",
       "5     6dc1df30-6d8c-40a5-9be9-52f398623f07    天猫精灵鲜鱼豆腐汤来一份吧    1        鲜鱼豆腐汤   \n",
       "6     38b8fafe-19f0-4003-ab7f-642f5a78a1dd      天猫精灵少油少盐的就行    1         少油少盐   \n",
       "...                                    ...              ...  ...          ...   \n",
       "3991  9b2b32da-dba8-447d-b090-84b48acb823d       来碗番茄汤小浑炖面吧    1      番茄汤小浑炖面   \n",
       "3993  3136cbf3-fa99-4196-b70b-207f09a497e3        要个暖心莲藕猪肚汤    1      暖心莲藕猪肚汤   \n",
       "3996  1341f3d3-7933-4832-9079-8beb49832649        天猫精灵来点养胃的    1          养胃的   \n",
       "3997  79ede6cc-ee69-4a21-89bb-7315a0b0f215  天猫精灵来碗热乎的小米南瓜粥吧    1        小米南瓜粥   \n",
       "3998  22047cac-13a8-4d6f-b7dd-e18db07a212a    天猫精灵来碗南瓜小米养胃粥    1      南瓜小米养胃粥   \n",
       "\n",
       "     feature_class                                                cls  \\\n",
       "2                1  [tensor(0.8875), tensor(0.1605), tensor(-0.554...   \n",
       "3                1  [tensor(0.7710), tensor(0.2389), tensor(-0.238...   \n",
       "4                1  [tensor(1.6882), tensor(0.9229), tensor(0.5272...   \n",
       "5                1  [tensor(-0.1967), tensor(0.9198), tensor(0.711...   \n",
       "6                0  [tensor(0.6344), tensor(0.7226), tensor(0.4432...   \n",
       "...            ...                                                ...   \n",
       "3991             1  [tensor(0.5655), tensor(0.6166), tensor(0.8255...   \n",
       "3993             1  [tensor(0.8180), tensor(0.6121), tensor(1.1287...   \n",
       "3996             0  [tensor(0.9521), tensor(0.8913), tensor(0.6510...   \n",
       "3997             1  [tensor(1.4292), tensor(0.2816), tensor(0.0894...   \n",
       "3998             1  [tensor(1.5522), tensor(0.4679), tensor(0.4628...   \n",
       "\n",
       "                                            Query_faiss nlp_recommend  \n",
       "2                   [花菜炒肉片, 菜花炒肉片, 家常炒花菜, 花菜家常炒, 花菜炒肉丝]         花菜炒肉片  \n",
       "3              [紫菜蛋花汤, 蛋花紫菜汤, 紫菜蛋花儿汤, 营养紫菜蛋花汤, 美味紫菜蛋花汤]         紫菜蛋花汤  \n",
       "4               [红枣山药粥, 山药红枣粥, 红枣养胃粥, 山药大麦红枣粥, 红枣山药大麦粥]         红枣山药粥  \n",
       "5                   [三鲜豆腐汤, 鲫鱼豆腐汤, 豆腐鲫鱼汤, 水鱼豆腐汤, 海鲜豆腐汤]         鲫鱼豆腐汤  \n",
       "6     [三荤两素加米饭, 小米粥或者玉米粥, 一荤两素加米饭, 三荤二素一汤一饭, 三荤二素一饭一...         清炒时蔬菜  \n",
       "...                                                 ...           ...  \n",
       "3991             [番茄浓汤面, 番茄蛋汤面, 番茄鸡蛋汤面, 浓汤番茄鸡蛋面, 番茄挂面汤]         番茄浓汤面  \n",
       "3993            [莲子猪肚汤, 莲子猪肚汤饭, 暖胃猪肚鸡汤, 莲子枸杞猪肚汤, 养胃猪肚汤]        暖胃猪肚鸡汤  \n",
       "3996  [养胃丨小米粥, 养胃的现熬皮蛋瘦肉粥, 养胃燕麦粥, 小米养胃粥, 红枣养胃粥, 营养配餐...        养胃丨小米粥  \n",
       "3997           [小米南瓜粥, 南瓜小米粥, 小米粥南瓜粥, 小米健康南瓜粥, 南瓜小米养生粥]         小米南瓜粥  \n",
       "3998     [小米南瓜养胃粥, 养胃南瓜小米粥, 小米南瓜粥养胃粥, 养胃小米南瓜粥, 健胃小米南瓜粥]       小米南瓜养胃粥  \n",
       "\n",
       "[1996 rows x 8 columns]"
      ]
     },
     "execution_count": 22,
     "metadata": {},
     "output_type": "execute_result"
    }
   ],
   "source": [
    "df_query"
   ]
  },
  {
   "cell_type": "code",
   "execution_count": 23,
   "id": "8219aa7a",
   "metadata": {},
   "outputs": [],
   "source": [
    "#df_query[['text','Query_faiss','nlp_recommend']].to_excel('./微调/微调训练集.xlsx')"
   ]
  },
  {
   "cell_type": "code",
   "execution_count": 24,
   "id": "8237bd0e",
   "metadata": {},
   "outputs": [],
   "source": [
    "#df_query0 = pd.read_excel(r\".\\模糊.xlsx\")\n",
    "#diff = pd.merge(df_query0,df_query,on='uuid',how='left')\n",
    "#diff = diff[diff['nlp_recommend_x']!=diff['nlp_recommend_y']]"
   ]
  },
  {
   "cell_type": "code",
   "execution_count": 25,
   "id": "5b55ef78",
   "metadata": {},
   "outputs": [],
   "source": [
    "#diff.to_excel('abc.xlsx')"
   ]
  },
  {
   "cell_type": "code",
   "execution_count": 26,
   "id": "72a960a7",
   "metadata": {},
   "outputs": [],
   "source": [
    "def faiss_1(s):\n",
    "    return s[0]  # 输出: 花菜炒肉片"
   ]
  },
  {
   "cell_type": "code",
   "execution_count": 27,
   "id": "d57864a3",
   "metadata": {},
   "outputs": [
    {
     "name": "stderr",
     "output_type": "stream",
     "text": [
      "100%|██████████| 1996/1996 [00:00<?, ?it/s]\n",
      "C:\\Users\\guofengrun\\AppData\\Local\\Temp\\ipykernel_16264\\4097527485.py:1: SettingWithCopyWarning: \n",
      "A value is trying to be set on a copy of a slice from a DataFrame.\n",
      "Try using .loc[row_indexer,col_indexer] = value instead\n",
      "\n",
      "See the caveats in the documentation: https://pandas.pydata.org/pandas-docs/stable/user_guide/indexing.html#returning-a-view-versus-a-copy\n",
      "  df_query['faiss_1'] = df_query['Query_faiss'].progress_apply(faiss_1)\n"
     ]
    }
   ],
   "source": [
    "df_query['faiss_1'] = df_query['Query_faiss'].progress_apply(faiss_1)"
   ]
  },
  {
   "cell_type": "markdown",
   "id": "c3ece68c",
   "metadata": {},
   "source": [
    "## faiss审核确保输出"
   ]
  },
  {
   "cell_type": "code",
   "execution_count": 28,
   "id": "77c4f941",
   "metadata": {},
   "outputs": [
    {
     "name": "stderr",
     "output_type": "stream",
     "text": [
      "100%|██████████| 1996/1996 [02:07<00:00, 15.62it/s]\n",
      "C:\\Users\\guofengrun\\AppData\\Local\\Temp\\ipykernel_16264\\3903690941.py:1: SettingWithCopyWarning: \n",
      "A value is trying to be set on a copy of a slice from a DataFrame.\n",
      "Try using .loc[row_indexer,col_indexer] = value instead\n",
      "\n",
      "See the caveats in the documentation: https://pandas.pydata.org/pandas-docs/stable/user_guide/indexing.html#returning-a-view-versus-a-copy\n",
      "  df_query['nlp_cls'] = df_query['nlp_recommend'].progress_apply(cls)\n"
     ]
    }
   ],
   "source": [
    "df_query['nlp_cls'] = df_query['nlp_recommend'].progress_apply(cls)"
   ]
  },
  {
   "cell_type": "code",
   "execution_count": 29,
   "id": "b0536d78",
   "metadata": {},
   "outputs": [],
   "source": [
    "def query_post(food_cls):\n",
    "#返回最相近的菜品\n",
    "    query_vector = food_cls.reshape(1, -1)\n",
    "    D, I = index.search(query_vector, k=1)  # D: 距离, I: 索引\n",
    "    return df_food.loc[I[0][0],'item_name']"
   ]
  },
  {
   "cell_type": "code",
   "execution_count": 30,
   "id": "c5f2aef5",
   "metadata": {},
   "outputs": [
    {
     "name": "stderr",
     "output_type": "stream",
     "text": [
      "100%|██████████| 1996/1996 [00:04<00:00, 482.02it/s]\n",
      "C:\\Users\\guofengrun\\AppData\\Local\\Temp\\ipykernel_16264\\3269939578.py:2: SettingWithCopyWarning: \n",
      "A value is trying to be set on a copy of a slice from a DataFrame.\n",
      "Try using .loc[row_indexer,col_indexer] = value instead\n",
      "\n",
      "See the caveats in the documentation: https://pandas.pydata.org/pandas-docs/stable/user_guide/indexing.html#returning-a-view-versus-a-copy\n",
      "  df_query['nlp_post'] = df_query['nlp_cls'].progress_apply(query_post)\n"
     ]
    }
   ],
   "source": [
    "#查询\n",
    "df_query['nlp_post'] = df_query['nlp_cls'].progress_apply(query_post)"
   ]
  },
  {
   "cell_type": "code",
   "execution_count": 31,
   "id": "05906da0",
   "metadata": {},
   "outputs": [
    {
     "name": "stderr",
     "output_type": "stream",
     "text": [
      "100%|██████████| 1996/1996 [02:30<00:00, 13.26it/s]\n",
      "C:\\Users\\guofengrun\\AppData\\Local\\Temp\\ipykernel_16264\\433197166.py:1: SettingWithCopyWarning: \n",
      "A value is trying to be set on a copy of a slice from a DataFrame.\n",
      "Try using .loc[row_indexer,col_indexer] = value instead\n",
      "\n",
      "See the caveats in the documentation: https://pandas.pydata.org/pandas-docs/stable/user_guide/indexing.html#returning-a-view-versus-a-copy\n",
      "  df_query['nlp_post_cls'] = df_query['nlp_post'].progress_apply(cls)\n"
     ]
    }
   ],
   "source": [
    "df_query['nlp_post_cls'] = df_query['nlp_post'].progress_apply(cls)"
   ]
  },
  {
   "cell_type": "code",
   "execution_count": 32,
   "id": "c3fcbe19",
   "metadata": {},
   "outputs": [],
   "source": [
    "# 最终推荐菜品与提取特征间的相似度\n",
    "def similarity(cls1,cls2):\n",
    "    similarity = torch.cosine_similarity(cls1, cls2, dim=0)\n",
    "    return similarity.item()"
   ]
  },
  {
   "cell_type": "code",
   "execution_count": 33,
   "id": "f7110c9f",
   "metadata": {},
   "outputs": [
    {
     "name": "stderr",
     "output_type": "stream",
     "text": [
      "100%|██████████| 1996/1996 [00:00<00:00, 45592.99it/s]\n",
      "C:\\Users\\guofengrun\\AppData\\Local\\Temp\\ipykernel_16264\\2678904413.py:1: SettingWithCopyWarning: \n",
      "A value is trying to be set on a copy of a slice from a DataFrame.\n",
      "Try using .loc[row_indexer,col_indexer] = value instead\n",
      "\n",
      "See the caveats in the documentation: https://pandas.pydata.org/pandas-docs/stable/user_guide/indexing.html#returning-a-view-versus-a-copy\n",
      "  df_query['similarity'] = df_query.progress_apply(lambda row: similarity(row['cls'], row['nlp_post_cls']), axis=1)\n"
     ]
    }
   ],
   "source": [
    "df_query['similarity'] = df_query.progress_apply(lambda row: similarity(row['cls'], row['nlp_post_cls']), axis=1)"
   ]
  },
  {
   "cell_type": "code",
   "execution_count": 34,
   "id": "8cbe7fef",
   "metadata": {},
   "outputs": [
    {
     "data": {
      "text/plain": [
       "0.936296645713889"
      ]
     },
     "execution_count": 34,
     "metadata": {},
     "output_type": "execute_result"
    }
   ],
   "source": [
    "df_query[df_query['feature_class']=='1']['similarity'].mean()"
   ]
  },
  {
   "cell_type": "markdown",
   "id": "d3c2be35",
   "metadata": {},
   "source": [
    "# 提交文件格式"
   ]
  },
  {
   "cell_type": "code",
   "execution_count": 35,
   "id": "f5bb9e2c",
   "metadata": {},
   "outputs": [],
   "source": [
    "df_result = pd.merge(df, df_query[['uuid','nlp_post']], how='left', on='uuid')"
   ]
  },
  {
   "cell_type": "code",
   "execution_count": 36,
   "id": "0b21a060",
   "metadata": {},
   "outputs": [
    {
     "data": {
      "text/plain": [
       "Index(['uuid', 'text', 'dom', 'nlp_post'], dtype='object')"
      ]
     },
     "execution_count": 36,
     "metadata": {},
     "output_type": "execute_result"
    }
   ],
   "source": [
    "df_result.columns"
   ]
  },
  {
   "cell_type": "code",
   "execution_count": 37,
   "id": "21dd24f5",
   "metadata": {},
   "outputs": [],
   "source": [
    "\n",
    "df_result.to_csv(r\".\\result\\Results506.txt\", \n",
    "          sep='\\t', \n",
    "          header=None, \n",
    "          index=False, \n",
    "          na_rep='')"
   ]
  },
  {
   "cell_type": "code",
   "execution_count": 38,
   "id": "b1c5e1c2",
   "metadata": {},
   "outputs": [],
   "source": [
    "# 存储时将tensor转换为list\n",
    "#df_food['cls'] = df_food['cls'].apply(lambda x: x.tolist())\n",
    "#df_food.to_csv(r'./df_food.csv',index=False)"
   ]
  },
  {
   "cell_type": "code",
   "execution_count": 39,
   "id": "4843608a",
   "metadata": {},
   "outputs": [
    {
     "data": {
      "text/plain": [
       "\"\\n# 读取时将list转回tensor\\nimport ast\\ndf_food = pd.read_csv(r'./df_food.csv')\\ndf_food['cls'] = df_food['cls'].apply(lambda x: torch.tensor(ast.literal_eval(x)))\\n\""
      ]
     },
     "execution_count": 39,
     "metadata": {},
     "output_type": "execute_result"
    }
   ],
   "source": [
    "\n",
    "'''\n",
    "# 读取时将list转回tensor\n",
    "import ast\n",
    "df_food = pd.read_csv(r'./df_food.csv')\n",
    "df_food['cls'] = df_food['cls'].apply(lambda x: torch.tensor(ast.literal_eval(x)))\n",
    "'''"
   ]
  },
  {
   "cell_type": "code",
   "execution_count": 40,
   "id": "bbfb08e0",
   "metadata": {},
   "outputs": [],
   "source": [
    "#df_query[df_query['similarity']<0.7][['text','Query_faiss','nlp_post','similarity']].to_excel('./微调/模糊菜品430.xlsx')"
   ]
  },
  {
   "cell_type": "code",
   "execution_count": 41,
   "id": "520870e3",
   "metadata": {},
   "outputs": [],
   "source": [
    "#df_query.to_csv(r'./微调/df_query.csv')"
   ]
  }
 ],
 "metadata": {
  "kernelspec": {
   "display_name": "base",
   "language": "python",
   "name": "python3"
  },
  "language_info": {
   "codemirror_mode": {
    "name": "ipython",
    "version": 3
   },
   "file_extension": ".py",
   "mimetype": "text/x-python",
   "name": "python",
   "nbconvert_exporter": "python",
   "pygments_lexer": "ipython3",
   "version": "3.12.7"
  }
 },
 "nbformat": 4,
 "nbformat_minor": 5
}
