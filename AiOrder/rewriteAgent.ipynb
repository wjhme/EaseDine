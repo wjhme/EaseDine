{
 "cells": [
  {
   "cell_type": "code",
   "execution_count": 1,
   "id": "df1937c4-e23f-4776-a5dd-ff1abee6aacb",
   "metadata": {},
   "outputs": [],
   "source": [
    "import os\n",
    "from langchain_chroma import Chroma\n",
    "from langchain_community.embeddings import SentenceTransformerEmbeddings\n",
    "from langchain_mistralai.chat_models import ChatMistralAI\n",
    "from langchain.prompts import PromptTemplate\n",
    "from langchain_core.output_parsers import StrOutputParser\n",
    "from langchain_core.runnables import RunnableParallel, RunnablePassthrough\n",
    "from langchain.chains import create_retrieval_chain\n",
    "from langchain.chains.combine_documents import create_stuff_documents_chain\n",
    "from langchain.chains import create_history_aware_retriever\n",
    "from langchain_core.prompts import MessagesPlaceholder\n",
    "from langchain.prompts import ChatPromptTemplate\n",
    "from langchain_core.runnables.history import RunnableWithMessageHistory\n",
    "from langchain_core.chat_history import BaseChatMessageHistory\n",
    "from langchain_community.chat_message_histories import ChatMessageHistory\n",
    "from langchain_community.chat_models.tongyi import ChatTongyi\n",
    "from langchain_core.messages import RemoveMessage\n",
    "from langgraph.prebuilt import ToolNode\n",
    "from dotenv import load_dotenv\n",
    "\n",
    "_ = load_dotenv(r\"D:\\pycharm\\project\\Raglearn\\.env\")\n",
    "os.environ['LANGSMITH_TRACING'] = 'true'\n",
    "os.environ['LANGCHAIN_ENDPOINT'] = 'https://api.smith.langchain.com'\n",
    "os.environ['LANGCHAIN_API_KEY'] = os.environ[\"LANGSMITH_API_KEY\"]\n",
    "os.environ['LANGCHAIN_PROJECT'] = 'Order_rag'\n",
    "os.environ[\"DASHSCOPE_API_KEY\"] = os.environ[\"QWEN_API_KEY\"]"
   ]
  },
  {
   "cell_type": "code",
   "execution_count": 2,
   "id": "0227172c-694f-4752-a801-9bdc13b09672",
   "metadata": {},
   "outputs": [
    {
     "name": "stderr",
     "output_type": "stream",
     "text": [
      "C:\\Users\\a\\AppData\\Local\\Temp\\ipykernel_4768\\938004629.py:2: LangChainDeprecationWarning: The class `HuggingFaceEmbeddings` was deprecated in LangChain 0.2.2 and will be removed in 1.0. An updated version of the class exists in the :class:`~langchain-huggingface package and should be used instead. To use it run `pip install -U :class:`~langchain-huggingface` and import as `from :class:`~langchain_huggingface import HuggingFaceEmbeddings``.\n",
      "  embedding = SentenceTransformerEmbeddings(model_name=r\"D:\\Model\\LLM\\cache\\bge-large-zh-v1.5\")\n",
      "C:\\Users\\a\\.conda\\envs\\langchain\\lib\\site-packages\\tqdm\\auto.py:21: TqdmWarning: IProgress not found. Please update jupyter and ipywidgets. See https://ipywidgets.readthedocs.io/en/stable/user_install.html\n",
      "  from .autonotebook import tqdm as notebook_tqdm\n"
     ]
    }
   ],
   "source": [
    "# 实例化Embedding模型\n",
    "embedding = SentenceTransformerEmbeddings(model_name=r\"D:\\Model\\LLM\\cache\\bge-large-zh-v1.5\")\n",
    "\n",
    "# api_key = \"WqnmFjEFkKaD16qjHtWjWVgzL3HVdyfQ\"\n",
    "# llm = ChatMistralAI(temperature=0,api_key=api_key)\n",
    "llm_rewrite = ChatTongyi(model=\"qwen2.5-72b-instruct\")\n",
    "llm = ChatTongyi(model=\"qwen2.5-72b-instruct\")"
   ]
  },
  {
   "cell_type": "code",
   "execution_count": 3,
   "id": "e0a0ac1a-3c03-4fec-b6ef-a50da1ea45e5",
   "metadata": {},
   "outputs": [],
   "source": [
    "from langchain_community.document_loaders import CSVLoader\n",
    "\n",
    "def generate_path(folder_path: str) -> list:\n",
    "    file_paths = []\n",
    "    for root, dirs, files in os.walk(folder_path):\n",
    "        for file in files:\n",
    "            file_path = os.path.join(root, file)\n",
    "            file_paths.append(file_path)\n",
    "    return file_paths\n",
    "\n",
    "\n",
    "def generate_loaders(file_paths: list) -> list:\n",
    "    loaders = []\n",
    "    for file_path in file_paths:\n",
    "        file_type = file_path.split('.')[-1]\n",
    "        if file_type == 'csv':\n",
    "            loaders.append(CSVLoader(file_path, encoding='utf-8'))\n",
    "    return loaders\n",
    "\n",
    "def exec_load(loaders: list) -> list:\n",
    "    texts = []\n",
    "    for loader in loaders:\n",
    "        texts.extend(loader.load())\n",
    "    return texts"
   ]
  },
  {
   "cell_type": "code",
   "execution_count": 4,
   "id": "82a763fb-5efa-462d-902d-ed2016b52208",
   "metadata": {},
   "outputs": [],
   "source": [
    "import sys\n",
    "from langchain_core.stores import InMemoryByteStore\n",
    "from langchain.retrievers import MultiVectorRetriever\n",
    "from langchain_community.vectorstores import FAISS\n",
    "import faiss\n",
    "csv_file_path = './data'\n",
    "file_path = generate_path(csv_file_path)\n",
    "loaders = generate_loaders(file_path)\n",
    "txt = exec_load(loaders)\n",
    "# vectorstore = Chroma(collection_name= \"summaries\", embedding_function=embedding, persist_directory=\"./database/chroma\")\n",
    "# index = faiss.IndexFlatL2(len(embedding.embed_query(\"hello world\")))\n",
    "vectorstore = FAISS.load_local(\"./database/faiss\", embeddings=embedding, allow_dangerous_deserialization = True)\n",
    "\n",
    "store = InMemoryByteStore()\n",
    "id_key = \"doc_id\"\n",
    "# The retriever (empty to start)\n",
    "retriever = MultiVectorRetriever(\n",
    "    vectorstore=vectorstore,\n",
    "    byte_store=store,\n",
    "    id_key=id_key,\n",
    "    search_kwargs={\"k\": 10}\n",
    ")\n",
    "\n",
    "with open(r'./data/doc_ids.txt', 'r') as f:\n",
    "    doc_ids = [line.strip() for line in f]\n",
    "retriever.docstore.mset(list(zip(doc_ids, txt)))"
   ]
  },
  {
   "cell_type": "code",
   "execution_count": 20,
   "id": "3c459727-03ef-43be-be96-2a28ae3d9264",
   "metadata": {},
   "outputs": [],
   "source": [
    "from langchain_core.prompts import PromptTemplate\n",
    "from langchain_core.output_parsers import StrOutputParser\n",
    "from langchain_core.tools import tool\n",
    "\n",
    "template = \"\"\"\n",
    "根据用户的输入进行判断,如果其意图是希望推荐食物，表意模糊返回relevant值1, 如果出现了明确的菜品名称返回relevant值0; \n",
    "如果relevant=0,返回原始输入,如果relevant=1,需要改写根据其点餐意图改写为菜品类目rewrite,其格式为:（初步推荐菜品名称）, 一级类目，二级类目，三级类目(可选);\n",
    "对于各级类目,可选的属性如下所示:\n",
    "一级类目包含:['色拉轻食' '主食' '甜点' '菜品' '小吃']\n",
    "二级类目包含:['健康餐' '其他主食' '其他甜品' '冰沙' '凉皮' '凉菜' '包子' '卤煮/卤味' '寿司' '年糕' '披萨' '汉堡' '汤羹'\n",
    " '泡芙' '炸货' '烤货（非炭烤）' '热菜' '粉' '粥' '糕点' '糖水/炖品' '蛋糕' '酥点' '锅贴' '面' '面包' '饭'\n",
    " '饭团' '饺子' '饼/囊/馍' '馄饨' '馒头']\n",
    "三级类目包含：[nan '其他包子' '生煎包' '小笼包' '炸鸡' '其他炸货' '米线' '其他粉' '米粉' '汤面' '其他面' '炒面' '拌面'\n",
    " '焖面' '意大利面' '拉面' '乌冬面' '盖浇面' '凉面' '盖浇饭' '焖饭' '其他饭' '泡饭' '拌饭' '白米饭' '煲仔饭'\n",
    " '炒饭' '捞饭' '焗饭' '木桶饭' '油饼' '馅饼' '卷饼' '夹饼/夹馍' '手抓饼' '火烧' '春饼']\n",
    "最后按照以下格式返回，不需要任何其他说明或者回答;\n",
    "格式,{{'relevant': value(0/1), 'text': input_or_rewrite}}\n",
    "问题:{input};\n",
    "格式化回答:\n",
    "\"\"\"\n",
    "\n",
    "output_parser = StrOutputParser()\n",
    "prompt = PromptTemplate(template=template, input_variables = [\"input\"])\n",
    "summery_chain = prompt|llm_rewrite|output_parser"
   ]
  },
  {
   "cell_type": "code",
   "execution_count": 21,
   "id": "15ebaecb-e18f-4845-a540-525c2de1c58e",
   "metadata": {},
   "outputs": [
    {
     "data": {
      "text/plain": [
       "\"{'relevant': 1, 'text': '（辣味菜品）, 菜品, 热菜'}\""
      ]
     },
     "execution_count": 21,
     "metadata": {},
     "output_type": "execute_result"
    }
   ],
   "source": [
    "summery_chain.invoke({'input':\"我要点辣的\"})"
   ]
  },
  {
   "cell_type": "code",
   "execution_count": 32,
   "id": "669b6a8e-483f-4f01-a1e7-27ac680b8c02",
   "metadata": {},
   "outputs": [
    {
     "data": {
      "text/plain": [
       "[Document(metadata={'source': './data\\\\商品.csv', 'row': 922}, page_content='\\ufeffitem: 农家特色炒鸡（半只）\\ncate_1_name: 菜品\\ncate_2_name: 热菜\\ncate_3_name: '),\n",
       " Document(metadata={'source': './data\\\\商品.csv', 'row': 923}, page_content='\\ufeffitem: 【爆款】无肉不欢随心配\\ncate_1_name: 菜品\\ncate_2_name: 热菜\\ncate_3_name: '),\n",
       " Document(metadata={'source': './data\\\\商品.csv', 'row': 924}, page_content='\\ufeffitem: 【稻稻臻选】随心配【25自选5种】\\ncate_1_name: 菜品\\ncate_2_name: 热菜\\ncate_3_name: '),\n",
       " Document(metadata={'source': './data\\\\商品.csv', 'row': 925}, page_content='\\ufeffitem: 干锅花菜（微辣）\\ncate_1_name: 菜品\\ncate_2_name: 热菜\\ncate_3_name: '),\n",
       " Document(metadata={'source': './data\\\\商品.csv', 'row': 926}, page_content='\\ufeffitem: 新栗子新鲜上市大份（现炒香喷喷不开口）\\ncate_1_name: 菜品\\ncate_2_name: 热菜\\ncate_3_name: '),\n",
       " Document(metadata={'source': './data\\\\商品.csv', 'row': 927}, page_content='\\ufeffitem: 葱烤大排\\ncate_1_name: 菜品\\ncate_2_name: 热菜\\ncate_3_name: '),\n",
       " Document(metadata={'source': './data\\\\商品.csv', 'row': 928}, page_content='\\ufeffitem: 腊肉豆丝\\ncate_1_name: 菜品\\ncate_2_name: 热菜\\ncate_3_name: '),\n",
       " Document(metadata={'source': './data\\\\商品.csv', 'row': 929}, page_content='\\ufeffitem: 农家小炒肉\\ncate_1_name: 菜品\\ncate_2_name: 热菜\\ncate_3_name: '),\n",
       " Document(metadata={'source': './data\\\\商品.csv', 'row': 930}, page_content='\\ufeffitem: 糖炒栗子中份500g，新栗上市了\\ncate_1_name: 菜品\\ncate_2_name: 热菜\\ncate_3_name: '),\n",
       " Document(metadata={'source': './data\\\\商品.csv', 'row': 931}, page_content='\\ufeffitem: 烤鸭 半只撕好+米饭1\\ncate_1_name: 菜品\\ncate_2_name: 热菜\\ncate_3_name: ')]"
      ]
     },
     "execution_count": 32,
     "metadata": {},
     "output_type": "execute_result"
    }
   ],
   "source": [
    "doc = retriever.invoke(\"（辣味菜品）, 菜品, 热菜\") \n",
    "doc\n"
   ]
  },
  {
   "cell_type": "code",
   "execution_count": 24,
   "id": "7084b2df-2562-4d7e-8c9a-3ab04edec2f1",
   "metadata": {},
   "outputs": [],
   "source": [
    "system_prompt = \"\"\"\n",
    "你是一个菜品点单系统,你的任务是根据提供的content条目, 针对老年群体的模糊点餐问题进行帮助点餐,\n",
    "你的点餐的菜品名称要与content条目中的菜品的item属性完全一致, 且只能在其中选择, \n",
    "你的回答不需要进行解释,只需要输出格式化的回答比如,我要点XX等等或者帮我点XX.\n",
    "content:{content}\n",
    "question:{input}\n",
    "answer:\n",
    "\"\"\"\n",
    "system_tem = PromptTemplate.from_template(system_prompt)"
   ]
  },
  {
   "cell_type": "code",
   "execution_count": 25,
   "id": "abbb0b52-3f43-4735-b3ea-5224b21cecdc",
   "metadata": {},
   "outputs": [],
   "source": [
    "import ast\n",
    "llm_chain = system_tem | llm | output_parser\n",
    "\n",
    "def retri_or_return(raw, relevant=0, text=None):\n",
    "    if relevant == 0:\n",
    "        return raw\n",
    "\n",
    "    content = retriever.invoke(text)\n",
    "    if content:\n",
    "        content = [i.page_content+'\\n' for i in doc]\n",
    "        content = ''.join(content)\n",
    "        return llm_chain.invoke({'content':content, 'input':raw})\n",
    "\n",
    "def parse_and_fun(input_str):\n",
    "    parsed_data = ast.literal_eval(input_str)\n",
    "    return retri_or_return(raw, **parsed_data)"
   ]
  },
  {
   "cell_type": "code",
   "execution_count": 26,
   "id": "b8f741cb-733b-4274-8a45-33b0514e9052",
   "metadata": {},
   "outputs": [],
   "source": [
    "all_chain = summery_chain | parse_and_fun"
   ]
  },
  {
   "cell_type": "code",
   "execution_count": 27,
   "id": "b71615c6-49b8-4b88-aa73-5d2bd0060ad5",
   "metadata": {},
   "outputs": [
    {
     "data": {
      "text/plain": [
       "'我要点干锅花菜（微辣）'"
      ]
     },
     "execution_count": 27,
     "metadata": {},
     "output_type": "execute_result"
    }
   ],
   "source": [
    "raw = \"我要点辣的\"\n",
    "all_chain.invoke({'input':raw})"
   ]
  },
  {
   "cell_type": "code",
   "execution_count": null,
   "id": "3bc44e56-0a61-4d55-a1a1-b9b7f6e54537",
   "metadata": {},
   "outputs": [],
   "source": []
  }
 ],
 "metadata": {
  "kernelspec": {
   "display_name": "langchain",
   "language": "python",
   "name": "langchain"
  },
  "language_info": {
   "codemirror_mode": {
    "name": "ipython",
    "version": 3
   },
   "file_extension": ".py",
   "mimetype": "text/x-python",
   "name": "python",
   "nbconvert_exporter": "python",
   "pygments_lexer": "ipython3",
   "version": "3.10.16"
  }
 },
 "nbformat": 4,
 "nbformat_minor": 5
}
