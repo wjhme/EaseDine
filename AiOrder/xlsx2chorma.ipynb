{
 "cells": [
  {
   "cell_type": "code",
   "execution_count": 2,
   "id": "e5a4ada2-5f0c-48a8-b21a-b76e310f1e5c",
   "metadata": {},
   "outputs": [],
   "source": [
    "import uuid\n",
    "\n",
    "import os\n",
    "from langchain.retrievers import MultiVectorRetriever\n",
    "from langchain_community.document_loaders import CSVLoader, UnstructuredExcelLoader\n",
    "from langchain_community.embeddings import SentenceTransformerEmbeddings\n",
    "from langchain_community.vectorstores import Chroma\n",
    "from langchain_core.documents import Document\n",
    "from langchain_core.stores import InMemoryByteStore\n",
    "import time\n",
    "from langchain_community.vectorstores import FAISS\n",
    "import faiss\n",
    "\n",
    "# 定义 xlsx 文件路径\n",
    "csv_file_path = './data'\n",
    "\n",
    "def generate_path(folder_path: str) -> list:\n",
    "    file_paths = []\n",
    "    for root, dirs, files in os.walk(folder_path):\n",
    "        for file in files:\n",
    "            file_path = os.path.join(root, file)\n",
    "            file_paths.append(file_path)\n",
    "    return file_paths\n",
    "\n",
    "\n",
    "def generate_loaders(file_paths: list) -> list:\n",
    "    loaders = []\n",
    "    for file_path in file_paths:\n",
    "        file_type = file_path.split('.')[-1]\n",
    "        if file_type == 'csv':\n",
    "            loaders.append(CSVLoader(file_path, encoding='utf-8'))\n",
    "    return loaders\n",
    "\n",
    "def exec_load(loaders: list) -> list:\n",
    "    texts = []\n",
    "    for loader in loaders:\n",
    "        texts.extend(loader.load())\n",
    "    return texts\n"
   ]
  },
  {
   "cell_type": "code",
   "execution_count": 4,
   "id": "330305cd-36e7-4a7b-8814-bb4ef2aab1e4",
   "metadata": {},
   "outputs": [
    {
     "name": "stderr",
     "output_type": "stream",
     "text": [
      "C:\\Users\\a\\AppData\\Local\\Temp\\ipykernel_50652\\1209132060.py:1: LangChainDeprecationWarning: The class `HuggingFaceEmbeddings` was deprecated in LangChain 0.2.2 and will be removed in 1.0. An updated version of the class exists in the :class:`~langchain-huggingface package and should be used instead. To use it run `pip install -U :class:`~langchain-huggingface` and import as `from :class:`~langchain_huggingface import HuggingFaceEmbeddings``.\n",
      "  embedding = SentenceTransformerEmbeddings(model_name=r\"D:\\Model\\LLM\\cache\\bge-large-zh-v1.5\")\n",
      "C:\\Users\\a\\.conda\\envs\\langchain\\lib\\site-packages\\tqdm\\auto.py:21: TqdmWarning: IProgress not found. Please update jupyter and ipywidgets. See https://ipywidgets.readthedocs.io/en/stable/user_install.html\n",
      "  from .autonotebook import tqdm as notebook_tqdm\n"
     ]
    }
   ],
   "source": [
    "embedding = SentenceTransformerEmbeddings(model_name=r\"D:\\Model\\LLM\\cache\\bge-large-zh-v1.5\")\n",
    "vectorstore = FAISS.load_local(\"./database/faiss\", embeddings=embedding, allow_dangerous_deserialization = True)"
   ]
  },
  {
   "cell_type": "code",
   "execution_count": 7,
   "id": "02c82aba-48f6-4f92-b34a-c5a5d4fe2e4c",
   "metadata": {},
   "outputs": [
    {
     "data": {
      "text/plain": [
       "[]"
      ]
     },
     "execution_count": 7,
     "metadata": {},
     "output_type": "execute_result"
    }
   ],
   "source": [
    "vectorstore.similarity_search('健康')"
   ]
  },
  {
   "cell_type": "code",
   "execution_count": 8,
   "id": "3d5a9f66-97af-4347-a562-1da73d469f0f",
   "metadata": {},
   "outputs": [],
   "source": [
    "path = generate_path(csv_file_path)\n",
    "loders = generate_loaders(path)"
   ]
  },
  {
   "cell_type": "code",
   "execution_count": 9,
   "id": "a405f4f1-8fd7-4554-b0c8-b252a0c60aed",
   "metadata": {},
   "outputs": [
    {
     "name": "stdout",
     "output_type": "stream",
     "text": [
      "page_content='﻿item: 蜜汁鸡腿超级碗\n",
      "cate_1_name: 色拉轻食\n",
      "cate_2_name: 健康餐\n",
      "cate_3_name: ' metadata={'source': './data\\\\商品.csv', 'row': 0}\n"
     ]
    }
   ],
   "source": [
    "print(loders[0].load()[0])"
   ]
  },
  {
   "cell_type": "code",
   "execution_count": 10,
   "id": "e117d006-2d3c-4e0c-acd1-dcd2793d6af4",
   "metadata": {},
   "outputs": [],
   "source": [
    "from langchain_community.docstore.in_memory import InMemoryDocstore\n",
    "def summ_retriever(texts):\n",
    "    # The vectorstore to use to index the child chunks\n",
    "    embedding = SentenceTransformerEmbeddings(model_name=r\"D:\\Model\\LLM\\cache\\bge-large-zh-v1.5\")\n",
    "    # vectorstore = Chroma(collection_name= \"summaries\", embedding_function=embedding, persist_directory=\"./database/chroma\")\n",
    "    \n",
    "    index = faiss.IndexFlatL2(len(embedding.embed_query(\"hello world\")))\n",
    "    vectorstore = FAISS(embedding_function=embedding,docstore=InMemoryDocstore(),index_to_docstore_id={},index=index)\n",
    "\n",
    "    store = InMemoryByteStore()\n",
    "    id_key = \"doc_id\"\n",
    "    # The retriever (empty to start)\n",
    "    retriever = MultiVectorRetriever(\n",
    "        vectorstore=vectorstore,\n",
    "        byte_store=store,\n",
    "        id_key=id_key,\n",
    "    )\n",
    "\n",
    "    doc_ids = [str(uuid.uuid4()) for _ in texts]\n",
    "\n",
    "    summary_docs = [\n",
    "        Document(page_content=get_sum(s), metadata={id_key: doc_ids[i]})\n",
    "        for i, s in enumerate(texts)\n",
    "    ]\n",
    "    retriever.vectorstore.add_documents(summary_docs)\n",
    "    vectorstore.save_local(\"./database/faiss\")\n",
    "    with open('.\\data\\doc_ids.txt', 'w') as file:\n",
    "        for doc_id in doc_ids:\n",
    "            file.write(doc_id + '\\n')\n",
    "\n",
    "    retriever.docstore.mset(list(zip(doc_ids, texts)))\n",
    "\n",
    "    return retriever\n",
    "\n",
    "def get_sum(doc):\n",
    "    # 提取 department 和 title\n",
    "    cate_1_name = next(line for line in doc.page_content.splitlines() if line.startswith(\"cate_1_name:\"))\n",
    "    cate_2_name = next(line for line in doc.page_content.splitlines() if line.startswith(\"cate_2_name:\"))\n",
    "    cate_3_name = next(line for line in doc.page_content.splitlines() if line.startswith(\"cate_3_name:\"))\n",
    "\n",
    "    # 获取具体内容\n",
    "    cate_1_name = cate_1_name.split(\": \")[1].strip()\n",
    "    cate_2_name = cate_2_name.split(\": \")[1].strip()\n",
    "    cate_3_name = cate_3_name.split(\": \")[1].strip()\n",
    "\n",
    "    # 组合成摘要\n",
    "    if cate_3_name:\n",
    "        summary = f\"{cate_1_name},{cate_2_name},{cate_3_name}\"\n",
    "    else:\n",
    "        summary = f\"{cate_1_name},{cate_2_name}\"\n",
    "    return summary"
   ]
  },
  {
   "cell_type": "code",
   "execution_count": 11,
   "id": "b5a9e54f-e22c-457a-8a2d-a294ed2becfd",
   "metadata": {},
   "outputs": [
    {
     "data": {
      "text/plain": [
       "'主食,其他主食'"
      ]
     },
     "execution_count": 11,
     "metadata": {},
     "output_type": "execute_result"
    }
   ],
   "source": [
    "get_sum(loders[0].load()[123])"
   ]
  },
  {
   "cell_type": "code",
   "execution_count": 12,
   "id": "90e672b0-7155-4c8a-a406-172e861d6471",
   "metadata": {},
   "outputs": [],
   "source": [
    "text = exec_load(loders)\n",
    "re = summ_retriever(text)"
   ]
  },
  {
   "cell_type": "code",
   "execution_count": 60,
   "id": "866ce30f-bbe4-4018-8a55-f9c051aa4e5d",
   "metadata": {},
   "outputs": [
    {
     "data": {
      "text/plain": [
       "[Document(metadata={'source': './data\\\\商品.csv', 'row': 0}, page_content='\\ufeffitem: 蜜汁鸡腿超级碗\\ncate_1_name: 色拉轻食\\ncate_2_name: 健康餐\\ncate_3_name: '),\n",
       " Document(metadata={'source': './data\\\\商品.csv', 'row': 1}, page_content='\\ufeffitem: （招牌）香料烤鸡胸健康餐\\ncate_1_name: 色拉轻食\\ncate_2_name: 健康餐\\ncate_3_name: '),\n",
       " Document(metadata={'source': './data\\\\商品.csv', 'row': 2}, page_content='\\ufeffitem: 低卡鸡胸肉减脂沙拉\\ncate_1_name: 色拉轻食\\ncate_2_name: 健康餐\\ncate_3_name: '),\n",
       " Document(metadata={'source': './data\\\\商品.csv', 'row': 3}, page_content='\\ufeffitem: 果木烟熏鸡胸超级碗\\ncate_1_name: 色拉轻食\\ncate_2_name: 健康餐\\ncate_3_name: ')]"
      ]
     },
     "execution_count": 60,
     "metadata": {},
     "output_type": "execute_result"
    }
   ],
   "source": [
    "re.invoke(\"色拉轻食,健康餐\")"
   ]
  },
  {
   "cell_type": "code",
   "execution_count": 1,
   "id": "5ffd43fb-978f-42fc-917b-c7374f92c1cf",
   "metadata": {},
   "outputs": [
    {
     "ename": "NameError",
     "evalue": "name 're' is not defined",
     "output_type": "error",
     "traceback": [
      "\u001b[1;31m---------------------------------------------------------------------------\u001b[0m",
      "\u001b[1;31mNameError\u001b[0m                                 Traceback (most recent call last)",
      "Cell \u001b[1;32mIn[1], line 1\u001b[0m\n\u001b[1;32m----> 1\u001b[0m \u001b[43mre\u001b[49m\u001b[38;5;241m.\u001b[39mvectorstore\u001b[38;5;241m.\u001b[39msimilarity_search(\u001b[38;5;124m\"\u001b[39m\u001b[38;5;124m色拉轻食,健康餐\u001b[39m\u001b[38;5;124m\"\u001b[39m) \n",
      "\u001b[1;31mNameError\u001b[0m: name 're' is not defined"
     ]
    }
   ],
   "source": [
    "re.vectorstore.similarity_search(\"色拉轻食,健康餐\") "
   ]
  },
  {
   "cell_type": "code",
   "execution_count": null,
   "id": "4350d8bf-b4ba-41b7-98b0-321ae7bdd878",
   "metadata": {},
   "outputs": [],
   "source": []
  }
 ],
 "metadata": {
  "kernelspec": {
   "display_name": "langchain",
   "language": "python",
   "name": "langchain"
  },
  "language_info": {
   "codemirror_mode": {
    "name": "ipython",
    "version": 3
   },
   "file_extension": ".py",
   "mimetype": "text/x-python",
   "name": "python",
   "nbconvert_exporter": "python",
   "pygments_lexer": "ipython3",
   "version": "3.10.16"
  }
 },
 "nbformat": 4,
 "nbformat_minor": 5
}
