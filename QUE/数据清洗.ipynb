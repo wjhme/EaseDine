{
 "cells": [
  {
   "cell_type": "code",
   "execution_count": 3,
   "metadata": {},
   "outputs": [],
   "source": [
    "import pandas as pd\n",
    "import os\n",
    "from transformers import AutoTokenizer, AutoModel\n",
    "from openai import OpenAI\n",
    "import torch\n",
    "from tqdm import tqdm\n",
    "tqdm.pandas()\n",
    "import os\n",
    "current_dir = os.getcwd()\n",
    "os.chdir(current_dir)"
   ]
  },
  {
   "cell_type": "code",
   "execution_count": 4,
   "metadata": {},
   "outputs": [],
   "source": [
    "df_food = pd.read_csv(r\".\\商品.txt\", sep='\\t')\n",
    "key_word = ['再加一份','再来一碗','加一','加点','加份','加小','另加','多加','我要','整个','有一个','汤里','需要','点菜请点米饭','别忘了米饭','不麻不辣可加两种面','少一点','亲一定','八宝粥八宝粥八宝粥','疙瘩汤汤汤汤汤汤','小米粥南瓜粥','我需要点米饭','很正常的白米饭','小米粥或者玉米粥','加香','加豆','米饭米饭米饭','加鲜嫩小白菜']\n",
    "wrong_food = df_food[df_food['item_name'].str.startswith(tuple(key_word))]\n",
    "df_food= df_food.drop(wrong_food.index)"
   ]
  },
  {
   "cell_type": "code",
   "execution_count": 6,
   "metadata": {},
   "outputs": [],
   "source": [
    "path = \"./BAAI\"\n",
    "# 初始化模型和分词器\n",
    "tokenizer = AutoTokenizer.from_pretrained(path)\n",
    "model = AutoModel.from_pretrained(path)\n"
   ]
  },
  {
   "cell_type": "code",
   "execution_count": 7,
   "metadata": {},
   "outputs": [],
   "source": [
    "#转换词向量函数\n",
    "def cls(text): \n",
    "    input = tokenizer(text, return_tensors=\"pt\", padding=True, truncation=True)\n",
    "    with torch.no_grad():\n",
    "        output = model(**input).last_hidden_state\n",
    "    cls_embedding = output[:, 0, :]\n",
    "    cls_embedding = cls_embedding[0]\n",
    "    return cls_embedding"
   ]
  },
  {
   "cell_type": "code",
   "execution_count": 8,
   "metadata": {},
   "outputs": [],
   "source": [
    "df_food['cls'] = df_food['item_name'].progress_apply(cls)"
   ]
  },
  {
   "cell_type": "code",
   "execution_count": 9,
   "metadata": {},
   "outputs": [],
   "source": [
    "# 存储时将tensor转换为list\n",
    "df_food['cls'] = df_food['cls'].apply(lambda x: x.tolist())\n"
   ]
  },
  {
   "cell_type": "code",
   "execution_count": 10,
   "metadata": {},
   "outputs": [],
   "source": [
    "df_food.to_csv(r\"商品-清洗.txt\",index=False)"
   ]
  }
 ],
 "metadata": {
  "kernelspec": {
   "display_name": "base",
   "language": "python",
   "name": "python3"
  },
  "language_info": {
   "codemirror_mode": {
    "name": "ipython",
    "version": 3
   },
   "file_extension": ".py",
   "mimetype": "text/x-python",
   "name": "python",
   "nbconvert_exporter": "python",
   "pygments_lexer": "ipython3",
   "version": "3.12.7"
  }
 },
 "nbformat": 4,
 "nbformat_minor": 2
}
