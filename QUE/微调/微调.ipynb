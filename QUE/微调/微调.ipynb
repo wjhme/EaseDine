{
 "cells": [
  {
   "cell_type": "code",
   "execution_count": 1,
   "metadata": {},
   "outputs": [],
   "source": [
    "import pandas as pd\n",
    "import os\n",
    "import csv\n",
    "import json\n",
    "import pandas as pd \n",
    "import matplotlib.pyplot as plt\n",
    "from tqdm import tqdm\n",
    "tqdm.pandas()\n",
    "import faiss\n",
    "import pandas as pd\n",
    "import numpy as np\n",
    "import torch\n",
    "\n",
    "import os\n",
    "current_dir = os.getcwd()\n",
    "os.chdir(current_dir)"
   ]
  },
  {
   "cell_type": "code",
   "execution_count": 6,
   "metadata": {},
   "outputs": [],
   "source": [
    "df_train = #"
   ]
  },
  {
   "cell_type": "code",
   "execution_count": 14,
   "metadata": {},
   "outputs": [],
   "source": [
    "\n",
    "def message_builder_example(text,Query_faiss,content):\n",
    "    message =  {\"messages\": [{\"role\": \"system\", \"content\":'''你是一个智能点餐助手。给你一个点餐文本，以及可能的菜品列表。你的任务是从菜品列表中选出最符合点餐文本的菜品，并且只返回该菜品名称。\n",
    "                    例如：\n",
    "                    user：家常花菜炒肉片+[花菜炒肉片, 菜花炒肉片, 家常炒花菜, 花菜家常炒, 花菜炒肉丝]\n",
    "                    assistant:花菜炒肉片'''}, \n",
    "                {\"role\": \"user\", \"content\": text+'+'+str(Query_faiss)},\n",
    "                {\"role\": \"assistant\", \"content\":content}]}\n",
    "    return message"
   ]
  },
  {
   "cell_type": "code",
   "execution_count": 15,
   "metadata": {},
   "outputs": [],
   "source": [
    "\n",
    "with open(r\".\\df_train_.jsonl\", 'w', encoding='utf-8') as fout:\n",
    "    for index, row in df_train.iterrows():\n",
    "        message = message_builder_example(row['text'],row['Query_faiss'],row['recommend'])\n",
    "        fout.write(json.dumps(message, separators=(',', ':'), ensure_ascii=False) + \"\\n\", )"
   ]
  }
 ],
 "metadata": {
  "kernelspec": {
   "display_name": "base",
   "language": "python",
   "name": "python3"
  },
  "language_info": {
   "codemirror_mode": {
    "name": "ipython",
    "version": 3
   },
   "file_extension": ".py",
   "mimetype": "text/x-python",
   "name": "python",
   "nbconvert_exporter": "python",
   "pygments_lexer": "ipython3",
   "version": "3.12.7"
  }
 },
 "nbformat": 4,
 "nbformat_minor": 2
}
